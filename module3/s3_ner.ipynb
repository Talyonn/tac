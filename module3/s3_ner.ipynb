{
 "metadata": {
  "language_info": {
   "codemirror_mode": {
    "name": "ipython",
    "version": 3
   },
   "file_extension": ".py",
   "mimetype": "text/x-python",
   "name": "python",
   "nbconvert_exporter": "python",
   "pygments_lexer": "ipython3",
   "version": "3.7.7-final"
  },
  "orig_nbformat": 2,
  "kernelspec": {
   "name": "python3",
   "display_name": "Python 3",
   "language": "python"
  }
 },
 "nbformat": 4,
 "nbformat_minor": 2,
 "cells": [
  {
   "source": [
    "# Named-entity recognition with SpaCy"
   ],
   "cell_type": "markdown",
   "metadata": {}
  },
  {
   "cell_type": "code",
   "execution_count": 1,
   "metadata": {},
   "outputs": [],
   "source": [
    "from collections import defaultdict\n",
    "import sys\n",
    "\n",
    "import spacy\n",
    "from spacy.lang.fr.examples import sentences"
   ]
  },
  {
   "source": [
    "Pour installer les modèles Spacy en français : `python -m spacy download fr_core_news_sm`"
   ],
   "cell_type": "markdown",
   "metadata": {
    "tags": []
   }
  },
  {
   "cell_type": "code",
   "execution_count": 2,
   "metadata": {},
   "outputs": [],
   "source": [
    "nlp = spacy.load('fr_core_news_sm')"
   ]
  },
  {
   "source": [
    "# Fonctions"
   ],
   "cell_type": "markdown",
   "metadata": {}
  },
  {
   "cell_type": "code",
   "execution_count": 3,
   "metadata": {},
   "outputs": [],
   "source": [
    "def search_p(n=1000000):\n",
    "    text = open(\"../data/1961.txt\", encoding='utf-8').read()[:n]\n",
    "    doc = nlp(text)\n",
    "    people = defaultdict(int)\n",
    "    for ent in doc.ents:\n",
    "        if ent.label_ == \"PER\" and len(ent.text) > 3:\n",
    "            people[ent.text] += 1\n",
    "    sorted_people = sorted(people.items(), key=lambda kv: kv[1], reverse=True)\n",
    "    for people, freq in sorted_people[:10]:\n",
    "        print(f\"{people} appears {freq} times in the corpus\")"
   ]
  },
  {
   "cell_type": "code",
   "execution_count": 4,
   "metadata": {},
   "outputs": [],
   "source": [
    "def search_l(n=1000000):\n",
    "    text = open(\"../data/1961.txt\", encoding='utf-8').read()[:n]\n",
    "    doc = nlp(text)\n",
    "    location = defaultdict(int)\n",
    "    for ent in doc.ents:\n",
    "        if ent.label_ == \"LOC\" and len(ent.text) > 3:\n",
    "            location[ent.text] += 1\n",
    "    sorted_location = sorted(location.items(), key=lambda kv: kv[1], reverse=True)\n",
    "    for location, freq in sorted_location[:10]:\n",
    "        print(f\"{location} appears {freq} times in the corpus\")"
   ]
  },
  {
   "cell_type": "code",
   "execution_count": 5,
   "metadata": {},
   "outputs": [],
   "source": [
    "def search_o(n=1000000):\n",
    "    text = open(\"../data/1961.txt\", encoding='utf-8').read()[:n]\n",
    "    doc = nlp(text)\n",
    "    organisation = defaultdict(int)\n",
    "    for ent in doc.ents:\n",
    "        if ent.label_ == \"ORG\" and len(ent.text) > 3:\n",
    "            organisation[ent.text] += 1\n",
    "    sorted_organisation = sorted(organisation.items(), key=lambda kv: kv[1], reverse=True)\n",
    "    for organisation, freq in sorted_organisation[:10]:\n",
    "        print(f\"{organisation} appears {freq} times in the corpus\")"
   ]
  },
  {
   "cell_type": "code",
   "execution_count": 6,
   "metadata": {},
   "outputs": [
    {
     "output_type": "stream",
     "name": "stdout",
     "text": [
      "Messieurs appears 58 times in the corpus\nMesdames appears 56 times in the corpus\nMonsieur le Bourgmestre appears 14 times in the corpus\nHôpital Brugmann appears 11 times in the corpus\nBrouhon appears 10 times in the corpus\nEugène Flagey appears 4 times in the corpus\nEchevin appears 4 times in the corpus\nLambert appears 3 times in the corpus\nMaison de Retraite appears 3 times in the corpus\nAttendu appears 3 times in the corpus\n"
     ]
    }
   ],
   "source": [
    "search_p()"
   ]
  },
  {
   "cell_type": "code",
   "execution_count": 7,
   "metadata": {},
   "outputs": [
    {
     "output_type": "stream",
     "name": "stdout",
     "text": [
      "Collège appears 51 times in the corpus\nEtat appears 35 times in the corpus\nPrincipe appears 33 times in the corpus\nAutorisation appears 26 times in the corpus\nBruxelles appears 24 times in the corpus\nPouvoir appears 20 times in the corpus\nVille appears 20 times in the corpus\nHeysel appears 16 times in the corpus\nBrugmann appears 13 times in the corpus\nHôpital Brugmann appears 12 times in the corpus\n"
     ]
    }
   ],
   "source": [
    "search_l()"
   ]
  },
  {
   "cell_type": "code",
   "execution_count": 8,
   "metadata": {},
   "outputs": [
    {
     "output_type": "stream",
     "name": "stdout",
     "text": [
      "Commission appears 35 times in the corpus\nConseil appears 29 times in the corpus\nCollège appears 18 times in the corpus\nCommission d'Assistance publique appears 12 times in the corpus\nService technique appears 10 times in the corpus\nConseil communal appears 10 times in the corpus\nSection d'Etudes de l'Equipement médical » appears 7 times in the corpus\n— Service appears 6 times in the corpus\nConseil d'administration de l'Université\nlibre de Bruxelles appears 6 times in the corpus\nSection appears 5 times in the corpus\n"
     ]
    }
   ],
   "source": [
    "search_o()"
   ]
  }
 ]
}