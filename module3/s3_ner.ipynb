{
 "metadata": {
  "language_info": {
   "codemirror_mode": {
    "name": "ipython",
    "version": 3
   },
   "file_extension": ".py",
   "mimetype": "text/x-python",
   "name": "python",
   "nbconvert_exporter": "python",
   "pygments_lexer": "ipython3",
   "version": "3.7.7-final"
  },
  "orig_nbformat": 2,
  "kernelspec": {
   "name": "python3",
   "display_name": "Python 3.7.7 64-bit ('venv')",
   "metadata": {
    "interpreter": {
     "hash": "a65972db20db749764f1b8969bb40b20e1617bcd88796a865f7880462bf88981"
    }
   }
  }
 },
 "nbformat": 4,
 "nbformat_minor": 2,
 "cells": [
  {
   "source": [
    "# Named-entity recognition with SpaCy"
   ],
   "cell_type": "markdown",
   "metadata": {}
  },
  {
   "cell_type": "code",
   "execution_count": 7,
   "metadata": {},
   "outputs": [],
   "source": [
    "from collections import defaultdict\n",
    "import sys\n",
    "dd\n",
    "import spacy\n",
    "from spacy.lang.fr.examples import sentences"
   ]
  },
  {
   "source": [
    "Pour installer les modèles Spacy en français : `python -m spacy download fr_core_news_sm`"
   ],
   "cell_type": "markdown",
   "metadata": {
    "tags": []
   }
  },
  {
   "cell_type": "code",
   "execution_count": 8,
   "metadata": {},
   "outputs": [],
   "source": [
    "nlp = spacy.load('fr_core_news_sm')"
   ]
  },
  {
   "source": [
    "# Fonctions"
   ],
   "cell_type": "markdown",
   "metadata": {}
  },
  {
   "cell_type": "code",
   "execution_count": 9,
   "metadata": {},
   "outputs": [],
   "source": [
    "def search_p(n=1000000):\n",
    "    text = open(\"../data/1956.txt\", encoding='utf-8').read()[:n]\n",
    "    doc = nlp(text)\n",
    "    people = defaultdict(int)\n",
    "    for ent in doc.ents:\n",
    "        if ent.label_ == \"PER\" and len(ent.text) > 3:\n",
    "            people[ent.text] += 1\n",
    "    sorted_people = sorted(people.items(), key=lambda kv: kv[1], reverse=True)\n",
    "    for people, freq in sorted_people[:10]:\n",
    "        print(f\"{people} appears {freq} times in the corpus\")"
   ]
  },
  {
   "cell_type": "code",
   "execution_count": 10,
   "metadata": {},
   "outputs": [],
   "source": [
    "def search_l(n=1000000):\n",
    "    text = open(\"../data/1956.txt\", encoding='utf-8').read()[:n]\n",
    "    doc = nlp(text)\n",
    "    location = defaultdict(int)\n",
    "    for ent in doc.ents:\n",
    "        if ent.label_ == \"LOC\" and len(ent.text) > 3:\n",
    "            location[ent.text] += 1\n",
    "    sorted_location = sorted(location.items(), key=lambda kv: kv[1], reverse=True)\n",
    "    for location, freq in sorted_location[:10]:\n",
    "        print(f\"{location} appears {freq} times in the corpus\")"
   ]
  },
  {
   "cell_type": "code",
   "execution_count": 11,
   "metadata": {},
   "outputs": [],
   "source": [
    "def search_o(n=1000000):\n",
    "    text = open(\"../data/1956.txt\", encoding='utf-8').read()[:n]\n",
    "    doc = nlp(text)\n",
    "    organisation = defaultdict(int)\n",
    "    for ent in doc.ents:\n",
    "        if ent.label_ == \"ORG\" and len(ent.text) > 3:\n",
    "            organisation[ent.text] += 1\n",
    "    sorted_organisation = sorted(organisation.items(), key=lambda kv: kv[1], reverse=True)\n",
    "    for organisation, freq in sorted_organisation[:10]:\n",
    "        print(f\"{organisation} appears {freq} times in the corpus\")"
   ]
  },
  {
   "cell_type": "code",
   "execution_count": 12,
   "metadata": {},
   "outputs": [
    {
     "output_type": "stream",
     "name": "stdout",
     "text": [
      "Messieurs appears 122 times in the corpus\nMesdames appears 103 times in the corpus\nDispy appears 43 times in the corpus\nMonsieur le Bourgmestre appears 34 times in the corpus\nEchevin appears 25 times in the corpus\nRobert Catteau appears 23 times in the corpus\nVandervelde appears 23 times in the corpus\nAttendu appears 22 times in the corpus\n— Personnel appears 22 times in the corpus\nBrunfaut appears 17 times in the corpus\n"
     ]
    }
   ],
   "source": [
    "search_p()"
   ]
  },
  {
   "cell_type": "code",
   "execution_count": 7,
   "metadata": {},
   "outputs": [
    {
     "output_type": "stream",
     "name": "stdout",
     "text": [
      "Bruxelles appears 176 times in the corpus\nCollège appears 82 times in the corpus\nVille appears 80 times in the corpus\nla Ville appears 79 times in the corpus\nEtat appears 75 times in the corpus\nBourgmestre appears 53 times in the corpus\nVille de Bruxelles appears 42 times in the corpus\nDirection appears 42 times in the corpus\nAutorisation appears 41 times in the corpus\nPrincipe appears 37 times in the corpus\n"
     ]
    }
   ],
   "source": [
    "search_l()"
   ]
  },
  {
   "cell_type": "code",
   "execution_count": 8,
   "metadata": {},
   "outputs": [
    {
     "output_type": "stream",
     "name": "stdout",
     "text": [
      "Conseil appears 111 times in the corpus\nCommission appears 101 times in the corpus\nSection appears 47 times in the corpus\nEcole appears 45 times in the corpus\nAdministration charitable appears 33 times in the corpus\nSociété appears 24 times in the corpus\nCollège appears 19 times in the corpus\nCollège des Bourgmestre appears 17 times in the corpus\nEcole normale appears 17 times in the corpus\nMesdames appears 16 times in the corpus\n"
     ]
    }
   ],
   "source": [
    "search_o()"
   ]
  }
 ]
}