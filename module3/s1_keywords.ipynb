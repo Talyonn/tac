{
 "metadata": {
  "language_info": {
   "codemirror_mode": {
    "name": "ipython",
    "version": 3
   },
   "file_extension": ".py",
   "mimetype": "text/x-python",
   "name": "python",
   "nbconvert_exporter": "python",
   "pygments_lexer": "ipython3",
   "version": "3.7.7-final"
  },
  "orig_nbformat": 2,
  "kernelspec": {
   "name": "python3",
   "display_name": "Python 3",
   "language": "python"
  }
 },
 "nbformat": 4,
 "nbformat_minor": 2,
 "cells": [
  {
   "source": [
    "# Testing keyword extraction with YAKE"
   ],
   "cell_type": "markdown",
   "metadata": {}
  },
  {
   "cell_type": "code",
   "execution_count": 104,
   "metadata": {},
   "outputs": [],
   "source": [
    "import os\n",
    "import yake"
   ]
  },
  {
   "source": [
    "## Extraire les mots clés des documents avec YAKE"
   ],
   "cell_type": "markdown",
   "metadata": {}
  },
  {
   "cell_type": "code",
   "execution_count": 105,
   "metadata": {
    "tags": []
   },
   "outputs": [
    {
     "output_type": "execute_result",
     "data": {
      "text/plain": [
       "{'Assistance',\n",
       " 'Bruxelles',\n",
       " 'Octobre',\n",
       " 'ainsi',\n",
       " 'après',\n",
       " 'assistance',\n",
       " 'assistance publique',\n",
       " 'aussi',\n",
       " 'autre',\n",
       " 'autres',\n",
       " 'avis',\n",
       " 'avoir',\n",
       " 'bien',\n",
       " 'bourgmestre',\n",
       " 'bruxelles',\n",
       " 'cela',\n",
       " 'celle',\n",
       " 'cet',\n",
       " 'cette',\n",
       " 'collège',\n",
       " 'comme',\n",
       " 'commission',\n",
       " 'communal',\n",
       " 'commune',\n",
       " 'conseil',\n",
       " 'conseil communal',\n",
       " 'conseil général',\n",
       " 'contre',\n",
       " 'demande',\n",
       " 'depuis',\n",
       " 'deux',\n",
       " 'dire',\n",
       " 'dit',\n",
       " 'doit',\n",
       " 'donc',\n",
       " 'dont',\n",
       " 'encore',\n",
       " 'entre',\n",
       " 'faire',\n",
       " 'fait',\n",
       " 'faut',\n",
       " 'favorable',\n",
       " 'franc',\n",
       " 'francs',\n",
       " 'het',\n",
       " 'het principe van',\n",
       " 'ils',\n",
       " 'jusqu',\n",
       " 'les',\n",
       " 'moins',\n",
       " 'monsieur le bourgmestre',\n",
       " 'naam van het',\n",
       " 'non',\n",
       " 'octobre',\n",
       " 'pendant',\n",
       " 'peut',\n",
       " 'plus',\n",
       " 'publique',\n",
       " 'rue',\n",
       " 'sans',\n",
       " 'service',\n",
       " 'sous',\n",
       " 'stad',\n",
       " 'tous',\n",
       " 'tout',\n",
       " 'toutes',\n",
       " 'trois',\n",
       " 'van',\n",
       " 'van het',\n",
       " 'van het collã',\n",
       " 'ville',\n",
       " 'être'}"
      ]
     },
     "metadata": {},
     "execution_count": 105
    }
   ],
   "source": [
    "# Faire une liste des mots à ignorer\n",
    "ignored = set([\"conseil communal\", \"conseil général\",\"bourgmestre\",\"conseil communal\",\"stad\",\"bruxelles\",\"ville\",\"van\",\"van het\",\"monsieur le bourgmestre\",\"naam van het\",\"van het collã\",\"het principe van\",\"les\", \"plus\", \"cette\", \"fait\", \"faire\", \"être\", \"deux\", \"comme\", \"dont\", \"tout\",\n",
    "       \"ils\", \"bien\", \"sans\", \"peut\", \"tous\", \"après\", \"ainsi\", \"donc\", \"cet\", \"sous\",\n",
    "       \"celle\", \"entre\", \"encore\", \"toutes\", \"pendant\", \"moins\", \"dire\", \"cela\", \"non\",\n",
    "       \"faut\", \"trois\", \"aussi\", \"dit\", \"avoir\", \"doit\", \"contre\", \"depuis\", \"autres\",\n",
    "       \"van\", \"het\", \"autre\", \"jusqu\", \"ville\",\"octobre\",\"service\",\"bruxelles\",\"assistance publique\",\n",
    "       \"assistance\",\"publique\",\"commission\",\"conseil\",\"communal\",\"Bruxelles\",\"Octobre\",\"Assistance\",\"demande\",\n",
    "       \"rue\",\"franc\",\"commune\",\"conseil\",\"commission\",\"assistance\",\"publique\",\"bruxelles\",\"conseil\",\"collège\",\"favorable\",\"avis\",\"franc\",\"francs\"])\n",
    "ignored"
   ]
  },
  {
   "cell_type": "code",
   "execution_count": 106,
   "metadata": {},
   "outputs": [
    {
     "output_type": "execute_result",
     "data": {
      "text/plain": [
       "<yake.yake.KeywordExtractor at 0x1be0cb82b08>"
      ]
     },
     "metadata": {},
     "execution_count": 106
    }
   ],
   "source": [
    "# Instantier l'extracteur de mots clés\n",
    "kw_extractor = yake.KeywordExtractor(lan=\"fr\", top=20)\n",
    "kw_extractor"
   ]
  },
  {
   "cell_type": "code",
   "execution_count": 107,
   "metadata": {},
   "outputs": [],
   "source": [
    "# Lister les PDFs\n",
    "data_path = \"../data/hopitaux/1977/\"\n",
    "files = os.listdir(data_path)"
   ]
  },
  {
   "cell_type": "code",
   "execution_count": 108,
   "metadata": {},
   "outputs": [
    {
     "output_type": "execute_result",
     "data": {
      "text/plain": [
       "30"
      ]
     },
     "metadata": {},
     "execution_count": 108
    }
   ],
   "source": [
    "# Imprimer le nombre de PDFs identifiés\n",
    "len(files)"
   ]
  },
  {
   "cell_type": "code",
   "execution_count": 109,
   "metadata": {},
   "outputs": [
    {
     "output_type": "execute_result",
     "data": {
      "text/plain": [
       "['Bxl_1977_Tome_RptAn_Part_4.txt',\n",
       " 'Bxl_1977_Tome_II1_Part_8.txt',\n",
       " 'Bxl_1977_Tome_RptAn_Part_1.txt',\n",
       " 'Bxl_1977_Tome_RptAn_Part_2.txt',\n",
       " 'Bxl_1977_Tome_RptAn_Part_3.txt',\n",
       " 'Bxl_1977_Tome_II1_Part_5.txt',\n",
       " 'Bxl_1977_Tome_II1_Part_6.txt',\n",
       " 'Bxl_1977_Tome_II1_Part_7.txt',\n",
       " 'Bxl_1977_Tome_II1_Part_2.txt',\n",
       " 'Bxl_1977_Tome_II1_Part_3.txt']"
      ]
     },
     "metadata": {},
     "execution_count": 109
    }
   ],
   "source": [
    "# Les dix premiers PDFs\n",
    "files[:10]"
   ]
  },
  {
   "cell_type": "code",
   "execution_count": 110,
   "metadata": {},
   "outputs": [
    {
     "output_type": "execute_result",
     "data": {
      "text/plain": [
       "29"
      ]
     },
     "metadata": {},
     "execution_count": 110
    }
   ],
   "source": [
    "# Enlever les fichiers qui ne commencent pas par Bxl_\n",
    "bxl_files = [f for f in files if f.startswith('Bx')]\n",
    "len(bxl_files)"
   ]
  },
  {
   "cell_type": "code",
   "execution_count": 111,
   "metadata": {},
   "outputs": [
    {
     "output_type": "execute_result",
     "data": {
      "text/plain": [
       "'Bxl_1977_Tome_RptAn_Part_1.txt'"
      ]
     },
     "metadata": {},
     "execution_count": 111
    }
   ],
   "source": [
    "# Choisir un fichier\n",
    "this_file = bxl_files[2]\n",
    "this_file"
   ]
  },
  {
   "cell_type": "code",
   "execution_count": 112,
   "metadata": {},
   "outputs": [
    {
     "output_type": "execute_result",
     "data": {
      "text/plain": [
       "\"\\x0cAdministratie\\n\\nHoofdstuk I\\n\\nPersoneel\\nArchieven\\n\\na) Administratie\\nGedurende het jaar 1976 heeft de Raad 54 zittingen gehouden.\\nBovendien zijn er 20 zittingen der verenigde secties, 180\\nzittingen der secties en 29 zittingen van verschillende commissies of komitees geweest.\\nDe Raad heeft de vernieuwde gebouwen gelegen Eredienststraat n 7, 9 en 11, en Verenigingsstraat n ' Itè, de\\nappartementen van het complex begrensd door de Grétyen Hallenstraat en de Anspachlaan, alsook het appartementencomplex\""
      ]
     },
     "metadata": {},
     "execution_count": 112
    }
   ],
   "source": [
    "\n",
    "# Récupérer le texte dans le fichier\n",
    "text = open(f'{data_path}/{this_file}', encoding='utf-8').read()\n",
    "text[:500]"
   ]
  },
  {
   "cell_type": "code",
   "execution_count": 113,
   "metadata": {},
   "outputs": [],
   "source": [
    "# Extraire les mots clés de ce texte\n",
    "keywords = kw_extractor.extract_keywords(text)"
   ]
  },
  {
   "cell_type": "code",
   "execution_count": 114,
   "metadata": {},
   "outputs": [
    {
     "output_type": "execute_result",
     "data": {
      "text/plain": [
       "[(0.0003163151659785402, 'van'),\n",
       " (0.0007284389007689688, 'van het'),\n",
       " (0.0007819628493810316, 'het'),\n",
       " (0.0013361814774239973, 'vrouwen mannen vrouwen'),\n",
       " (0.0016956879236654575, 'totaal mannen vrouwen'),\n",
       " (0.002147819522988341, 'mannen vrouwen mannen'),\n",
       " (0.0022016867500959493, 'mannen vrouwen'),\n",
       " (0.002806995581623455, 'totaal'),\n",
       " (0.003246965939442615, 'van brussel'),\n",
       " (0.0032470056155637903, 'van een'),\n",
       " (0.0033042620723826074, 'brussel'),\n",
       " (0.0034390044146415163, 'een'),\n",
       " (0.003972387674281061, 'ligging van het'),\n",
       " (0.004133882522799285, 'district district'),\n",
       " (0.004211469323484994, 'district district district'),\n",
       " (0.004417494393459271, 'burgerlijke stand'),\n",
       " (0.004562039625240492, 'vrouwen'),\n",
       " (0.004656623522307994, 'loop van het'),\n",
       " (0.00466935117131878, 'mannen vrouwen vreemdelingen'),\n",
       " (0.004748532828482996, 'totaal mannen')]"
      ]
     },
     "metadata": {},
     "execution_count": 114
    }
   ],
   "source": [
    "keywords"
   ]
  },
  {
   "cell_type": "code",
   "execution_count": 115,
   "metadata": {},
   "outputs": [
    {
     "output_type": "execute_result",
     "data": {
      "text/plain": [
       "['vrouwen mannen vrouwen',\n",
       " 'totaal mannen vrouwen',\n",
       " 'mannen vrouwen mannen',\n",
       " 'mannen vrouwen',\n",
       " 'van brussel',\n",
       " 'van een',\n",
       " 'ligging van het',\n",
       " 'district district',\n",
       " 'district district district',\n",
       " 'burgerlijke stand',\n",
       " 'loop van het',\n",
       " 'mannen vrouwen vreemdelingen',\n",
       " 'totaal mannen']"
      ]
     },
     "metadata": {},
     "execution_count": 115
    }
   ],
   "source": [
    "# Ne garder que les bigrams\n",
    "kept = []\n",
    "for score, kw in keywords:\n",
    "    words = kw.split()\n",
    "    if len(words) > 1 and kw not in ignored:\n",
    "        kept.append(kw)\n",
    "kept"
   ]
  },
  {
   "source": [
    "# Faire la même opération sur tous les documents"
   ],
   "cell_type": "markdown",
   "metadata": {}
  },
  {
   "cell_type": "code",
   "execution_count": 116,
   "metadata": {
    "tags": []
   },
   "outputs": [
    {
     "output_type": "stream",
     "name": "stdout",
     "text": [
      "Bxl_1977_Tome_I1_Part_1.txt mentions these keywords: gemeenteraad van brussel, van der elst, van het collège, van brussel, raad van het, monsieur lagasse, plan de secteur...\n",
      "Bxl_1977_Tome_I1_Part_2.txt mentions these keywords: plan de secteur, projet de plan, monsieur lagasse...\n",
      "Bxl_1977_Tome_I1_Part_3.txt mentions these keywords: van het collège, marcel van oosterzee, het collège van, protestantse kerk van, francs. francs. francs., kerk van het, année année année, kerk van brussel, francs. francs., gemeenschap van brussel, kerk van...\n",
      "Bxl_1977_Tome_I1_Part_4.txt mentions these keywords: van het collège, raad van beheer, world trade center, raad van, koninklijke vlaamse schouwburg, instelling van openbaar, principe d'une dépense, world trade, van beheer...\n",
      "Bxl_1977_Tome_I1_Part_5.txt mentions these keywords: van het collège, het collège van, conseil de fabrique, van een, het collège, begroting van...\n",
      "Bxl_1977_Tome_I1_Part_6.txt mentions these keywords: année année année, van het collège, crédit communal, van het voorzien, année année, van het lopend, compagnie intercommunale bruxelloise, foyer bruxellois, tekort van het, het artikel, voorzien tekort van, het evenwicht van...\n",
      "Bxl_1977_Tome_I1_Part_7.txt mentions these keywords: van het collège, het collège, roy de blicquy, principe d'une dépense, met eenparigheid van...\n",
      "Bxl_1977_Tome_I1_Part_8.txt mentions these keywords: ministre de l'intérieur, heer anciaux, conférence des bourgmestres, mijnheer de burgemeester, l'echevin pierson, monsieur anciaux...\n",
      "Bxl_1977_Tome_I2_Part_1.txt mentions these keywords: van het collège, principe d'une dépense, van halteren, principe van een, heer van halteren, van een, cyrille de greef, d'une dépense, het collège, pierre van halteren, van impe...\n",
      "Bxl_1977_Tome_I2_Part_2.txt mentions these keywords: raad van het, van het collège, van het instituut, van het stadhuis, raad van, het collège, universiteit van brussel, het collège van, voor het, van het tandheelkundig, van openbare onderstand, van een, commissie van openbare, van het nieuw, vrije universiteit van...\n",
      "Bxl_1977_Tome_I2_Part_3.txt mentions these keywords: van het collège, marceline van baerlem, commissie van openbare, van baerlem, het collège van, van openbare onderstand, het collège, compagnie intercommunale bruxelloise, commissie van, collège conseil communal, marceline van...\n",
      "Bxl_1977_Tome_I2_Part_4.txt mentions these keywords: van het collège, het kollege van, van het stadsbestuur, van een, kollege van burgemeester, het gemeentebestuur van, van het dienstjaar, voor het, het collège, afgevaardigde van het...\n",
      "Bxl_1977_Tome_I2_Part_5.txt mentions these keywords: van het collège, van het artikel, het collège, door het collège, comité olympique belge, van het règlement, roy de blicquy, omschrijving van het, het sportcentrum van, door het...\n",
      "Bxl_1977_Tome_I2_Part_6.txt mentions these keywords: van het collège, het collège van, gemeenschappelijke sociale dienst, het collège, omschrijving van het, dienst voor het, sociale dienst voor, sociale dienst, van het artikel, van een, service social, service social collectif, het personeel van...\n",
      "Bxl_1977_Tome_I2_Part_7.txt mentions these keywords: van het collège, foyer bruxellois, het ministerie van, van het openbaar, van het verslag, het collège, l'echevin lefère, van een...\n",
      "Bxl_1977_Tome_I2_Part_8.txt mentions these keywords: van het collège, centre public d'aide, het collège van, muséum van het, het collège, het muséum van, centre public, public d'aide sociale, vrije universiteit brussel, koninklijke vlaamse schouwburg, uitgaven van het, van het kostuum, het collège heeft...\n",
      "Bxl_1977_Tome_I2_Part_9.txt mentions these keywords: het gebruik van, gebruik van, het gebruik, van het collège, voor het gebruik, gebruik van het, palais du midi, het adres van, het personeel van, voor het, die het gebruik, het collège, van het materiaal...\n",
      "Bxl_1977_Tome_II1_Part_1.txt mentions these keywords: van het collège, principe d'une dépense, het gemeentekrediet van, van een, d'une dépense, het collège, gemeentekrediet van belgië, het collège van...\n",
      "Bxl_1977_Tome_II1_Part_2.txt mentions these keywords: begroting budget, recettes dépenses ontvangsten, rekening budget, dépenses ontvangsten uitgaven, recettes dépenses recettes, dépenses recettes dépenses, uitgaven voor het, compte budget budget, verschillende ontvangsten budget, uitgaven ontvangsten uitgaven, ontvangsten uitgaven ontvangsten, recettes dépenses, ontvangsten budget...\n",
      "Bxl_1977_Tome_II1_Part_3.txt mentions these keywords: het openbaar centrum, centre public d'aide, centrum voor maatschappelijk, openbaar centrum voor, voor maatschappelijk welzijn, van het openbaar, public d'aide sociale, centre public, omschrijving van het, van het artikel, het openbaar, openbaar centrum, centrum voor, voor maatschappelijk, d'aide sociale...\n",
      "Bxl_1977_Tome_II1_Part_4.txt mentions these keywords: omschrijving van het, van het artikel, justification omschrijving van, het artikel rechtvaardiging, van het collège, l'echevin pierson, artikel rechtvaardiging exercice, omschrijving van, rechtvaardiging exercice propre...\n",
      "Bxl_1977_Tome_II1_Part_5.txt mentions these keywords: van het collège, het gemeentebestuur van, het collège van, van een, het collège, het grondgebied van, van deze, rekening van, van deze rekening, opbrengst van het, het besluit van, gouverneur van brabant...\n",
      "Bxl_1977_Tome_II1_Part_6.txt mentions these keywords: van het collège, théâtre royal, het gemeentebestuur van, van het openbaar, gebouwen van het, van deze, het grondgebied van, conseil d'administration, appel d'offres restreint...\n",
      "Bxl_1977_Tome_II1_Part_7.txt mentions these keywords: festival van brussel, raad van beheer, van het collège, van het festival, het collège van, van het openbaar, raad van, internationaal festival van, gebouwen van het, van een, conseil d'administration, voor het, l'echevin pierson, festival van...\n",
      "Bxl_1977_Tome_II1_Part_8.txt mentions these keywords: van het collège, gebouwen van het, van het openbaar, het collège van...\n",
      "Bxl_1977_Tome_RptAn_Part_1.txt mentions these keywords: vrouwen mannen vrouwen, totaal mannen vrouwen, mannen vrouwen mannen, mannen vrouwen, van brussel, van een, ligging van het, district district, district district district, burgerlijke stand, loop van het, mannen vrouwen vreemdelingen, totaal mannen...\n",
      "Bxl_1977_Tome_RptAn_Part_2.txt mentions these keywords: modernisering van, geschat bedrag der, bedrag der werken, der werken, werken geschat bedrag, begindatum der werken, werken bedrag van, aard der werken, der werken geschat, bedrag van, der werken bedrag, voor het...\n",
      "Bxl_1977_Tome_RptAn_Part_3.txt mentions these keywords: voor het, het plaatsen van, aanvragen voor het, van een, plaatsen van, voor het plaatsen, een bedrag van, voor een, voor een bedrag, het kader van...\n",
      "Bxl_1977_Tome_RptAn_Part_4.txt mentions these keywords: van brussel, stad brussel, kostuum van, concert door het, van een, door het, het mozartorkest van, ter gelegenheid van, concert door, door het mozartorkest...\n"
     ]
    }
   ],
   "source": [
    "for f in sorted(bxl_files)[:92]:\n",
    "    text = open(f'{data_path}/{f}', encoding='utf-8').read()\n",
    "    keywords = kw_extractor.extract_keywords(text)\n",
    "    kept = []\n",
    "    for score, kw in keywords:\n",
    "        words = kw.split()\n",
    "        if len(words) > 1 and kw not in ignored:\n",
    "            kept.append(kw)\n",
    "    print(f\"{f} mentions these keywords: {', '.join(kept)}...\")"
   ]
  },
  {
   "cell_type": "code",
   "execution_count": null,
   "metadata": {},
   "outputs": [],
   "source": []
  }
 ]
}