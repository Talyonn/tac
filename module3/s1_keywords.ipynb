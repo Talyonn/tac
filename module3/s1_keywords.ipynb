{
 "metadata": {
  "language_info": {
   "codemirror_mode": {
    "name": "ipython",
    "version": 3
   },
   "file_extension": ".py",
   "mimetype": "text/x-python",
   "name": "python",
   "nbconvert_exporter": "python",
   "pygments_lexer": "ipython3",
   "version": "3.7.7-final"
  },
  "orig_nbformat": 2,
  "kernelspec": {
   "name": "python3",
   "display_name": "Python 3.7.7 64-bit ('venv')",
   "metadata": {
    "interpreter": {
     "hash": "a65972db20db749764f1b8969bb40b20e1617bcd88796a865f7880462bf88981"
    }
   }
  }
 },
 "nbformat": 4,
 "nbformat_minor": 2,
 "cells": [
  {
   "source": [
    "# Testing keyword extraction with YAKE"
   ],
   "cell_type": "markdown",
   "metadata": {}
  },
  {
   "cell_type": "code",
   "execution_count": 292,
   "metadata": {},
   "outputs": [],
   "source": [
    "import os\n",
    "import yake"
   ]
  },
  {
   "source": [
    "## Extraire les mots clés des documents avec YAKE"
   ],
   "cell_type": "markdown",
   "metadata": {}
  },
  {
   "cell_type": "code",
   "execution_count": 293,
   "metadata": {
    "tags": []
   },
   "outputs": [
    {
     "output_type": "execute_result",
     "data": {
      "text/plain": [
       "{'bourgmestre',\n",
       " 'bruxelles',\n",
       " 'conseil communal',\n",
       " 'conseil général',\n",
       " 'het principe van',\n",
       " 'monsieur le bourgmestre',\n",
       " 'naam van het',\n",
       " 'stad',\n",
       " 'van',\n",
       " 'van het',\n",
       " 'van het collã',\n",
       " 'ville'}"
      ]
     },
     "metadata": {},
     "execution_count": 293
    }
   ],
   "source": [
    "# Faire une liste des mots à ignorer\n",
    "ignored = set([\"conseil communal\", \"conseil général\",\"bourgmestre\",\"conseil communal\",\"stad\",\"bruxelles\",\"ville\",\"van\",\"van het\",\"monsieur le bourgmestre\",\"naam van het\",\"van het collã\",\"het principe van\"])\n",
    "ignored"
   ]
  },
  {
   "cell_type": "code",
   "execution_count": 278,
   "metadata": {},
   "outputs": [
    {
     "output_type": "execute_result",
     "data": {
      "text/plain": [
       "<yake.yake.KeywordExtractor at 0x1519cb70948>"
      ]
     },
     "metadata": {},
     "execution_count": 278
    }
   ],
   "source": [
    "# Instantier l'extracteur de mots clés\n",
    "kw_extractor = yake.KeywordExtractor(lan=\"fr\", top=20)\n",
    "kw_extractor"
   ]
  },
  {
   "cell_type": "code",
   "execution_count": 279,
   "metadata": {},
   "outputs": [],
   "source": [
    "# Lister les PDFs\n",
    "data_path = \"../data/1960-1980/\"\n",
    "files = os.listdir(data_path)"
   ]
  },
  {
   "cell_type": "code",
   "execution_count": 280,
   "metadata": {},
   "outputs": [
    {
     "output_type": "execute_result",
     "data": {
      "text/plain": [
       "19"
      ]
     },
     "metadata": {},
     "execution_count": 280
    }
   ],
   "source": [
    "# Imprimer le nombre de PDFs identifiés\n",
    "len(files)"
   ]
  },
  {
   "cell_type": "code",
   "execution_count": 281,
   "metadata": {},
   "outputs": [
    {
     "output_type": "execute_result",
     "data": {
      "text/plain": [
       "['1960.txt',\n",
       " '1961.txt',\n",
       " '1962.txt',\n",
       " '1963.txt',\n",
       " '1964.txt',\n",
       " '1965.txt',\n",
       " '1966.txt',\n",
       " '1967.txt',\n",
       " '1968.txt',\n",
       " '1969.txt']"
      ]
     },
     "metadata": {},
     "execution_count": 281
    }
   ],
   "source": [
    "# Les dix premiers PDFs\n",
    "files[:10]"
   ]
  },
  {
   "cell_type": "code",
   "execution_count": 282,
   "metadata": {},
   "outputs": [
    {
     "output_type": "execute_result",
     "data": {
      "text/plain": [
       "19"
      ]
     },
     "metadata": {},
     "execution_count": 282
    }
   ],
   "source": [
    "# Enlever les fichiers qui ne commencent pas par Bxl_\n",
    "bxl_files = [f for f in files if f.startswith('19')]\n",
    "len(bxl_files)"
   ]
  },
  {
   "cell_type": "code",
   "execution_count": 285,
   "metadata": {},
   "outputs": [
    {
     "output_type": "execute_result",
     "data": {
      "text/plain": [
       "'1977.txt'"
      ]
     },
     "metadata": {},
     "execution_count": 285
    }
   ],
   "source": [
    "# Choisir un fichier\n",
    "this_file = bxl_files[17]\n",
    "this_file"
   ]
  },
  {
   "cell_type": "code",
   "execution_count": 286,
   "metadata": {},
   "outputs": [
    {
     "output_type": "execute_result",
     "data": {
      "text/plain": [
       "'\\x0c\\x0cVILLE DE\\nBRUXELLES\\n\\nSTAD\\nBRUSSEL\\n\\nBULLETIN COMMUNAL\\nGEMEENTEBLAD\\nAnnÃ©e â€” Jaargang\\n1977\\nN. 1.\\nCONSEIL COMMUNAL â€” GEMEENTERAAD\\nSÃ©ance du â€” Zitting van\\n10-1-1977.\\nPRESIDENT â€” V O O R Z I T T E R\\nM.-de heer Pierre V A N H A L T E R E N ,\\nBourgmestre â€” Burgemeester.\\n\\nLa sÃ©ance est ouverte Ã\\xa0 quatorze heures trente-cinq\\nminutes.\\nDe zitting wordt geopend te veertien uur vijfendertig\\nminuten.\\n\\nPrÃ©sents :\\nZijn aanwezig : M . - de heer Van Halteren, Bourgmestre Burgemeester ; M M . - de he'"
      ]
     },
     "metadata": {},
     "execution_count": 286
    }
   ],
   "source": [
    "\n",
    "# Récupérer le texte dans le fichier\n",
    "text = open(f'{data_path}/{this_file}', encoding='utf-16').read()\n",
    "text[:500]"
   ]
  },
  {
   "cell_type": "code",
   "execution_count": 287,
   "metadata": {},
   "outputs": [],
   "source": [
    "# Extraire les mots clés de ce texte\n",
    "keywords = kw_extractor.extract_keywords(text)"
   ]
  },
  {
   "cell_type": "code",
   "execution_count": 290,
   "metadata": {},
   "outputs": [
    {
     "output_type": "execute_result",
     "data": {
      "text/plain": [
       "[(7.120595354382989e-07, 'van het'),\n",
       " (8.007046337947367e-07, 'van het collã'),\n",
       " (1.5077322593317703e-06, 'raad van het'),\n",
       " (1.6424840295611317e-06, 'conseil communal'),\n",
       " (1.9465678821742392e-06, 'van'),\n",
       " (2.2101610113209367e-06, 'van het openbaar'),\n",
       " (4.113187064193619e-06, 'van het artikel'),\n",
       " (4.801011634809771e-06, 'monsieur le bourgmestre'),\n",
       " (5.154358358577638e-06, 'het gemeentebestuur van'),\n",
       " (5.170192465702507e-06, 'van een'),\n",
       " (5.395537189890868e-06, 'raad van beheer'),\n",
       " (6.016187108314415e-06, 'omschrijving van het'),\n",
       " (6.318218290908566e-06, 'van brussel'),\n",
       " (6.671681895517606e-06, 'conseil'),\n",
       " (7.2866743187747195e-06, 'het principe van'),\n",
       " (8.042838620429268e-06, 'raad van'),\n",
       " (8.090731849158068e-06, 'van het instituut'),\n",
       " (8.157541793954154e-06, 'gebouwen van het'),\n",
       " (8.343168040960168e-06, 'dienst van het'),\n",
       " (9.034912652864303e-06, 'van het centrum')]"
      ]
     },
     "metadata": {},
     "execution_count": 290
    }
   ],
   "source": [
    "keywords"
   ]
  },
  {
   "cell_type": "code",
   "execution_count": 291,
   "metadata": {},
   "outputs": [
    {
     "output_type": "execute_result",
     "data": {
      "text/plain": [
       "['raad van het',\n",
       " 'van het openbaar',\n",
       " 'van het artikel',\n",
       " 'het gemeentebestuur van',\n",
       " 'van een',\n",
       " 'raad van beheer',\n",
       " 'omschrijving van het',\n",
       " 'van brussel',\n",
       " 'raad van',\n",
       " 'van het instituut',\n",
       " 'gebouwen van het',\n",
       " 'dienst van het',\n",
       " 'van het centrum']"
      ]
     },
     "metadata": {},
     "execution_count": 291
    }
   ],
   "source": [
    "# Ne garder que les bigrams\n",
    "kept = []\n",
    "for score, kw in keywords:\n",
    "    words = kw.split()\n",
    "    if len(words) > 1 and kw not in ignored:\n",
    "        kept.append(kw)\n",
    "kept"
   ]
  },
  {
   "source": [
    "# Faire la même opération sur tous les documents"
   ],
   "cell_type": "markdown",
   "metadata": {}
  },
  {
   "cell_type": "code",
   "execution_count": 251,
   "metadata": {
    "tags": []
   },
   "outputs": [
    {
     "output_type": "error",
     "ename": "KeyboardInterrupt",
     "evalue": "",
     "traceback": [
      "\u001b[1;31m---------------------------------------------------------------------------\u001b[0m",
      "\u001b[1;31mKeyboardInterrupt\u001b[0m                         Traceback (most recent call last)",
      "\u001b[1;32m<ipython-input-251-3385669fec96>\u001b[0m in \u001b[0;36m<module>\u001b[1;34m\u001b[0m\n\u001b[0;32m      1\u001b[0m \u001b[1;32mfor\u001b[0m \u001b[0mf\u001b[0m \u001b[1;32min\u001b[0m \u001b[0msorted\u001b[0m\u001b[1;33m(\u001b[0m\u001b[0mbxl_files\u001b[0m\u001b[1;33m)\u001b[0m\u001b[1;33m[\u001b[0m\u001b[1;33m:\u001b[0m\u001b[1;36m10\u001b[0m\u001b[1;33m]\u001b[0m\u001b[1;33m:\u001b[0m\u001b[1;33m\u001b[0m\u001b[1;33m\u001b[0m\u001b[0m\n\u001b[0;32m      2\u001b[0m     \u001b[0mtext\u001b[0m \u001b[1;33m=\u001b[0m \u001b[0mopen\u001b[0m\u001b[1;33m(\u001b[0m\u001b[1;34mf'{data_path}/{f}'\u001b[0m\u001b[1;33m,\u001b[0m \u001b[0mencoding\u001b[0m\u001b[1;33m=\u001b[0m\u001b[1;34m'utf-16'\u001b[0m\u001b[1;33m)\u001b[0m\u001b[1;33m.\u001b[0m\u001b[0mread\u001b[0m\u001b[1;33m(\u001b[0m\u001b[1;33m)\u001b[0m\u001b[1;33m\u001b[0m\u001b[1;33m\u001b[0m\u001b[0m\n\u001b[1;32m----> 3\u001b[1;33m     \u001b[0mkeywords\u001b[0m \u001b[1;33m=\u001b[0m \u001b[0mkw_extractor\u001b[0m\u001b[1;33m.\u001b[0m\u001b[0mextract_keywords\u001b[0m\u001b[1;33m(\u001b[0m\u001b[0mtext\u001b[0m\u001b[1;33m)\u001b[0m\u001b[1;33m\u001b[0m\u001b[1;33m\u001b[0m\u001b[0m\n\u001b[0m\u001b[0;32m      4\u001b[0m     \u001b[0mkept\u001b[0m \u001b[1;33m=\u001b[0m \u001b[1;33m[\u001b[0m\u001b[1;33m]\u001b[0m\u001b[1;33m\u001b[0m\u001b[1;33m\u001b[0m\u001b[0m\n\u001b[0;32m      5\u001b[0m     \u001b[1;32mfor\u001b[0m \u001b[0mscore\u001b[0m\u001b[1;33m,\u001b[0m \u001b[0mkw\u001b[0m \u001b[1;32min\u001b[0m \u001b[0mkeywords\u001b[0m\u001b[1;33m:\u001b[0m\u001b[1;33m\u001b[0m\u001b[1;33m\u001b[0m\u001b[0m\n",
      "\u001b[1;32mc:\\Users\\Nico\\tac\\venv\\lib\\site-packages\\yake\\yake.py\u001b[0m in \u001b[0;36mextract_keywords\u001b[1;34m(self, text)\u001b[0m\n\u001b[0;32m     44\u001b[0m         \u001b[0mtext\u001b[0m \u001b[1;33m=\u001b[0m \u001b[0mtext\u001b[0m\u001b[1;33m.\u001b[0m\u001b[0mreplace\u001b[0m\u001b[1;33m(\u001b[0m\u001b[1;34m'\\n\\t'\u001b[0m\u001b[1;33m,\u001b[0m\u001b[1;34m' '\u001b[0m\u001b[1;33m)\u001b[0m\u001b[1;33m\u001b[0m\u001b[1;33m\u001b[0m\u001b[0m\n\u001b[0;32m     45\u001b[0m \u001b[1;33m\u001b[0m\u001b[0m\n\u001b[1;32m---> 46\u001b[1;33m         \u001b[0mdc\u001b[0m \u001b[1;33m=\u001b[0m \u001b[0mDataCore\u001b[0m\u001b[1;33m(\u001b[0m\u001b[0mtext\u001b[0m\u001b[1;33m=\u001b[0m\u001b[0mtext\u001b[0m\u001b[1;33m,\u001b[0m \u001b[0mstopword_set\u001b[0m\u001b[1;33m=\u001b[0m\u001b[0mself\u001b[0m\u001b[1;33m.\u001b[0m\u001b[0mstopword_set\u001b[0m\u001b[1;33m,\u001b[0m \u001b[0mwindowsSize\u001b[0m\u001b[1;33m=\u001b[0m\u001b[0mself\u001b[0m\u001b[1;33m.\u001b[0m\u001b[0mwindowsSize\u001b[0m\u001b[1;33m,\u001b[0m \u001b[0mn\u001b[0m\u001b[1;33m=\u001b[0m\u001b[0mself\u001b[0m\u001b[1;33m.\u001b[0m\u001b[0mn\u001b[0m\u001b[1;33m)\u001b[0m\u001b[1;33m\u001b[0m\u001b[1;33m\u001b[0m\u001b[0m\n\u001b[0m\u001b[0;32m     47\u001b[0m         \u001b[0mdc\u001b[0m\u001b[1;33m.\u001b[0m\u001b[0mbuild_single_terms_features\u001b[0m\u001b[1;33m(\u001b[0m\u001b[0mfeatures\u001b[0m\u001b[1;33m=\u001b[0m\u001b[0mself\u001b[0m\u001b[1;33m.\u001b[0m\u001b[0mfeatures\u001b[0m\u001b[1;33m)\u001b[0m\u001b[1;33m\u001b[0m\u001b[1;33m\u001b[0m\u001b[0m\n\u001b[0;32m     48\u001b[0m         \u001b[0mdc\u001b[0m\u001b[1;33m.\u001b[0m\u001b[0mbuild_mult_terms_features\u001b[0m\u001b[1;33m(\u001b[0m\u001b[0mfeatures\u001b[0m\u001b[1;33m=\u001b[0m\u001b[0mself\u001b[0m\u001b[1;33m.\u001b[0m\u001b[0mfeatures\u001b[0m\u001b[1;33m)\u001b[0m\u001b[1;33m\u001b[0m\u001b[1;33m\u001b[0m\u001b[0m\n",
      "\u001b[1;32mc:\\Users\\Nico\\tac\\venv\\lib\\site-packages\\yake\\datarepresentation.py\u001b[0m in \u001b[0;36m__init__\u001b[1;34m(self, text, stopword_set, windowsSize, n, tagsToDiscard, exclude)\u001b[0m\n\u001b[0;32m     34\u001b[0m         \u001b[0mself\u001b[0m\u001b[1;33m.\u001b[0m\u001b[0mstopword_set\u001b[0m \u001b[1;33m=\u001b[0m \u001b[0mstopword_set\u001b[0m\u001b[1;33m\u001b[0m\u001b[1;33m\u001b[0m\u001b[0m\n\u001b[0;32m     35\u001b[0m \u001b[1;33m\u001b[0m\u001b[0m\n\u001b[1;32m---> 36\u001b[1;33m         \u001b[0mself\u001b[0m\u001b[1;33m.\u001b[0m\u001b[0m_build\u001b[0m\u001b[1;33m(\u001b[0m\u001b[0mtext\u001b[0m\u001b[1;33m,\u001b[0m \u001b[0mwindowsSize\u001b[0m\u001b[1;33m,\u001b[0m \u001b[0mn\u001b[0m\u001b[1;33m)\u001b[0m\u001b[1;33m\u001b[0m\u001b[1;33m\u001b[0m\u001b[0m\n\u001b[0m\u001b[0;32m     37\u001b[0m \u001b[1;33m\u001b[0m\u001b[0m\n\u001b[0;32m     38\u001b[0m     \u001b[1;32mdef\u001b[0m \u001b[0mbuild_candidate\u001b[0m\u001b[1;33m(\u001b[0m\u001b[0mself\u001b[0m\u001b[1;33m,\u001b[0m \u001b[0mcandidate_string\u001b[0m\u001b[1;33m)\u001b[0m\u001b[1;33m:\u001b[0m\u001b[1;33m\u001b[0m\u001b[1;33m\u001b[0m\u001b[0m\n",
      "\u001b[1;32mc:\\Users\\Nico\\tac\\venv\\lib\\site-packages\\yake\\datarepresentation.py\u001b[0m in \u001b[0;36m_build\u001b[1;34m(self, text, windowsSize, n)\u001b[0m\n\u001b[0;32m     97\u001b[0m                         \u001b[0mself\u001b[0m\u001b[1;33m.\u001b[0m\u001b[0mfreq_ns\u001b[0m\u001b[1;33m[\u001b[0m\u001b[0mlen\u001b[0m\u001b[1;33m(\u001b[0m\u001b[0mcandidate\u001b[0m\u001b[1;33m)\u001b[0m\u001b[1;33m]\u001b[0m \u001b[1;33m+=\u001b[0m \u001b[1;36m1.\u001b[0m\u001b[1;33m\u001b[0m\u001b[1;33m\u001b[0m\u001b[0m\n\u001b[0;32m     98\u001b[0m                         \u001b[0mcand\u001b[0m \u001b[1;33m=\u001b[0m \u001b[0mcomposed_word\u001b[0m\u001b[1;33m(\u001b[0m\u001b[0mcandidate\u001b[0m\u001b[1;33m[\u001b[0m\u001b[1;33m:\u001b[0m\u001b[1;33m:\u001b[0m\u001b[1;33m-\u001b[0m\u001b[1;36m1\u001b[0m\u001b[1;33m]\u001b[0m\u001b[1;33m)\u001b[0m\u001b[1;33m\u001b[0m\u001b[1;33m\u001b[0m\u001b[0m\n\u001b[1;32m---> 99\u001b[1;33m                         \u001b[0mself\u001b[0m\u001b[1;33m.\u001b[0m\u001b[0maddOrUpdateComposedWord\u001b[0m\u001b[1;33m(\u001b[0m\u001b[0mcand\u001b[0m\u001b[1;33m)\u001b[0m\u001b[1;33m\u001b[0m\u001b[1;33m\u001b[0m\u001b[0m\n\u001b[0m\u001b[0;32m    100\u001b[0m \u001b[1;33m\u001b[0m\u001b[0m\n\u001b[0;32m    101\u001b[0m                     \u001b[1;31m# Add term to the block of words' buffer\u001b[0m\u001b[1;33m\u001b[0m\u001b[1;33m\u001b[0m\u001b[1;33m\u001b[0m\u001b[0m\n",
      "\u001b[1;31mKeyboardInterrupt\u001b[0m: "
     ]
    }
   ],
   "source": [
    "for f in sorted(bxl_files)[:10]:\n",
    "    text = open(f'{data_path}/{f}', encoding='utf-16').read()\n",
    "    keywords = kw_extractor.extract_keywords(text)\n",
    "    kept = []\n",
    "    for score, kw in keywords:\n",
    "        words = kw.split()\n",
    "        if len(words) > 1 and kw not in ignored:\n",
    "            kept.append(kw)\n",
    "    print(f\"{f} mentions these keywords: {', '.join(kept)}...\")"
   ]
  },
  {
   "cell_type": "code",
   "execution_count": null,
   "metadata": {},
   "outputs": [],
   "source": []
  }
 ]
}