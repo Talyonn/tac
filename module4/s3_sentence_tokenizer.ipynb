{
 "metadata": {
  "language_info": {
   "codemirror_mode": {
    "name": "ipython",
    "version": 3
   },
   "file_extension": ".py",
   "mimetype": "text/x-python",
   "name": "python",
   "nbconvert_exporter": "python",
   "pygments_lexer": "ipython3",
   "version": "3.7.7-final"
  },
  "orig_nbformat": 2,
  "kernelspec": {
   "name": "python3",
   "display_name": "Python 3.7.7 64-bit ('venv')",
   "metadata": {
    "interpreter": {
     "hash": "84620c57ad64dab623d396bf0b2dbef5530abb613ed7917494e61663025d4680"
    }
   }
  }
 },
 "nbformat": 4,
 "nbformat_minor": 2,
 "cells": [
  {
   "cell_type": "code",
   "execution_count": 13,
   "metadata": {},
   "outputs": [],
   "source": [
    "import os\n",
    "import sys\n",
    "import nltk\n",
    "from nltk.tokenize import sent_tokenize"
   ]
  },
  {
   "source": [
    "# Fichiers d'inputs et d'outputs"
   ],
   "cell_type": "markdown",
   "metadata": {}
  },
  {
   "cell_type": "code",
   "execution_count": 14,
   "metadata": {},
   "outputs": [],
   "source": [
    "infile = \"../data/hopitaux/allUTF8.txt\"\n",
    "outfile = \"../data/hopitaux/allUTF8out.txt\""
   ]
  },
  {
   "source": [
    "# Tokenisation du corpus ligne par ligne"
   ],
   "cell_type": "markdown",
   "metadata": {}
  },
  {
   "source": [
    "**Important** : pour traiter tout le corpus, mettez `LIMIT = None`"
   ],
   "cell_type": "markdown",
   "metadata": {}
  },
  {
   "cell_type": "code",
   "execution_count": 15,
   "metadata": {},
   "outputs": [],
   "source": [
    "LIMIT = 2000000"
   ]
  },
  {
   "cell_type": "code",
   "execution_count": 16,
   "metadata": {
    "tags": []
   },
   "outputs": [
    {
     "output_type": "stream",
     "name": "stdout",
     "text": [
      "processing line 0/2000000\n",
      "processing line 100000/2000000\n",
      "processing line 200000/2000000\n",
      "processing line 300000/2000000\n",
      "processing line 400000/2000000\n",
      "processing line 500000/2000000\n",
      "processing line 600000/2000000\n",
      "processing line 700000/2000000\n",
      "processing line 800000/2000000\n",
      "processing line 900000/2000000\n",
      "processing line 1000000/2000000\n",
      "processing line 1100000/2000000\n",
      "processing line 1200000/2000000\n",
      "processing line 1300000/2000000\n",
      "processing line 1400000/2000000\n",
      "processing line 1500000/2000000\n",
      "processing line 1600000/2000000\n",
      "processing line 1700000/2000000\n",
      "processing line 1800000/2000000\n",
      "processing line 1900000/2000000\n"
     ]
    }
   ],
   "source": [
    "with open(outfile, 'w', encoding=\"utf-8\") as output:\n",
    "    with open(infile, encoding=\"utf-8\", errors=\"backslashreplace\") as f:\n",
    "        content = f.readlines()\n",
    "        content = content[:LIMIT] if LIMIT is not None else content\n",
    "        n_lines = len(content)\n",
    "        for i, line in enumerate(content):\n",
    "            if i % 100000 == 0:\n",
    "                print(f'processing line {i}/{n_lines}')\n",
    "            sentences = sent_tokenize(line)\n",
    "            for sent in sentences:\n",
    "                output.write(sent + \"\\n\")"
   ]
  },
  {
   "cell_type": "code",
   "execution_count": null,
   "metadata": {},
   "outputs": [],
   "source": []
  }
 ]
}