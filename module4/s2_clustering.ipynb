{
 "metadata": {
  "language_info": {
   "codemirror_mode": {
    "name": "ipython",
    "version": 3
   },
   "file_extension": ".py",
   "mimetype": "text/x-python",
   "name": "python",
   "nbconvert_exporter": "python",
   "pygments_lexer": "ipython3",
   "version": "3.7.7-final"
  },
  "orig_nbformat": 2,
  "kernelspec": {
   "name": "python3",
   "display_name": "Python 3",
   "language": "python"
  }
 },
 "nbformat": 4,
 "nbformat_minor": 2,
 "cells": [
  {
   "cell_type": "code",
   "execution_count": 1,
   "metadata": {},
   "outputs": [],
   "source": [
    "import collections\n",
    "import os\n",
    "import string\n",
    "import sys\n",
    "\n",
    "import pandas as pd\n",
    "from nltk import word_tokenize\n",
    "from nltk.corpus import stopwords\n",
    "from pprint import pprint\n",
    "from sklearn.cluster import KMeans\n",
    "from sklearn.feature_extraction.text import TfidfVectorizer"
   ]
  },
  {
   "cell_type": "code",
   "execution_count": 2,
   "metadata": {},
   "outputs": [
    {
     "output_type": "stream",
     "name": "stderr",
     "text": [
      "[nltk_data] Downloading package punkt to\n[nltk_data]     C:\\Users\\Nico\\AppData\\Roaming\\nltk_data...\n[nltk_data]   Package punkt is already up-to-date!\n"
     ]
    },
    {
     "output_type": "execute_result",
     "data": {
      "text/plain": [
       "True"
      ]
     },
     "metadata": {},
     "execution_count": 2
    }
   ],
   "source": [
    "import nltk\n",
    "\n",
    "nltk.download('punkt')"
   ]
  },
  {
   "cell_type": "code",
   "execution_count": 3,
   "metadata": {},
   "outputs": [],
   "source": []
  },
  {
   "cell_type": "code",
   "execution_count": 3,
   "metadata": {},
   "outputs": [],
   "source": [
    "data_path = \"../data/hopitaux/all/\""
   ]
  },
  {
   "source": [
    "# Choix d'une décennie et du nombre de clusters"
   ],
   "cell_type": "markdown",
   "metadata": {}
  },
  {
   "cell_type": "code",
   "execution_count": 4,
   "metadata": {},
   "outputs": [],
   "source": [
    "DECADE = ''\n",
    "N_CLUSTERS = 5"
   ]
  },
  {
   "source": [
    "# Chargement des fichiers de la décennie"
   ],
   "cell_type": "markdown",
   "metadata": {}
  },
  {
   "cell_type": "code",
   "execution_count": 5,
   "metadata": {},
   "outputs": [],
   "source": [
    "files = [f for f in sorted(os.listdir(data_path)) if f\"_{DECADE[:-1]}\" in f]"
   ]
  },
  {
   "cell_type": "code",
   "execution_count": 6,
   "metadata": {},
   "outputs": [
    {
     "output_type": "execute_result",
     "data": {
      "text/plain": [
       "['Bxl_1848_Tome_I1_Part_1.txt',\n",
       " 'Bxl_1848_Tome_I1_Part_2.txt',\n",
       " 'Bxl_1907_Tome_I2_Part_1.txt',\n",
       " 'Bxl_1907_Tome_I2_Part_10.txt',\n",
       " 'Bxl_1907_Tome_I2_Part_15.txt']"
      ]
     },
     "metadata": {},
     "execution_count": 6
    }
   ],
   "source": [
    "# Exemple de fichiers\n",
    "files[:5]"
   ]
  },
  {
   "cell_type": "code",
   "execution_count": 7,
   "metadata": {},
   "outputs": [],
   "source": [
    "texts = [open(data_path + f, encoding='utf-8').read() for f in files]"
   ]
  },
  {
   "cell_type": "code",
   "execution_count": 8,
   "metadata": {},
   "outputs": [
    {
     "output_type": "execute_result",
     "data": {
      "text/plain": [
       "\"V I L L E DE\\n\\nBRUXELLES.\\n\\nbulletin îreô 6e'ûitce0.\\n\\nDU\\n\\nCONSEIL COMMUNAL,\\n\\nANNÉE\\n\\n1848.\\n\\n\\x0cCI\\n\\nII\\n\\n\\x0cV I L L E DE B R U X E L L E S .\\n\\nDtl\\n\\nCONSEIL COMMUNAL.\\nANNÉE\\n\\n1848.\\n\\nBRUXELLES,\\nIMPRIMERIE\\n\\nD E J. H . B R I A R D ,\\n\\nBUE NEUVE, 31, FAUBOURG DE NAJIIIR.\\n\\n1849\\n\\n\\x0cDE\\n\\npublics: 1\\nUl de la «\\nde Véglîst\\n\\nLeCoi\\nUheoi\\n\\nproeis-v\\nM.le\\n\\nvantes :\\nNT\\nstase\\npoiirinl\\ni l . li\\ndu Cons\\nm o t al\\nM. if\\nvantes :\\nn\\n«\""
      ]
     },
     "metadata": {},
     "execution_count": 8
    }
   ],
   "source": [
    "# Exemple de textes\n",
    "texts[0][:400]"
   ]
  },
  {
   "source": [
    "# Vectorisation du texte"
   ],
   "cell_type": "markdown",
   "metadata": {}
  },
  {
   "cell_type": "code",
   "execution_count": 9,
   "metadata": {},
   "outputs": [],
   "source": [
    "def process_text(text, stem=True):\n",
    "    \"\"\" Tokenize text and remove punctuation \"\"\"\n",
    "    text = text.translate(string.punctuation)\n",
    "    tokens = word_tokenize(text)\n",
    "    return tokens"
   ]
  },
  {
   "cell_type": "code",
   "execution_count": 10,
   "metadata": {},
   "outputs": [],
   "source": [
    "vectorizer = TfidfVectorizer(tokenizer=process_text,\n",
    "                                stop_words=stopwords.words('french'),\n",
    "                                max_df=0.5,\n",
    "                                min_df=0.1,\n",
    "                                lowercase=True)"
   ]
  },
  {
   "cell_type": "code",
   "execution_count": 11,
   "metadata": {},
   "outputs": [
    {
     "output_type": "stream",
     "name": "stdout",
     "text": [
      "Wall time: 25.4 s\n"
     ]
    }
   ],
   "source": [
    "%time tfidf_vectors = vectorizer.fit_transform(texts)"
   ]
  },
  {
   "cell_type": "code",
   "execution_count": 12,
   "metadata": {},
   "outputs": [
    {
     "output_type": "execute_result",
     "data": {
      "text/plain": [
       "<152x6544 sparse matrix of type '<class 'numpy.float64'>'\n",
       "\twith 211562 stored elements in Compressed Sparse Row format>"
      ]
     },
     "metadata": {},
     "execution_count": 12
    }
   ],
   "source": [
    "tfidf_vectors"
   ]
  },
  {
   "cell_type": "code",
   "execution_count": 13,
   "metadata": {},
   "outputs": [
    {
     "output_type": "execute_result",
     "data": {
      "text/plain": [
       "conseils        0.355202\n",
       "décret          0.291067\n",
       "hospices        0.289424\n",
       "ouvriers        0.233620\n",
       "l'honorable     0.200891\n",
       "                  ...   \n",
       "maatschappij    0.000000\n",
       "machines        0.000000\n",
       "machtiging      0.000000\n",
       "madame          0.000000\n",
       "#               0.000000\n",
       "Length: 6544, dtype: float64"
      ]
     },
     "metadata": {},
     "execution_count": 13
    }
   ],
   "source": [
    "# Exemple de vecteur TFIDF\n",
    "pd.Series(\n",
    "    tfidf_vectors[0].toarray()[0],\n",
    "    index=vectorizer.get_feature_names()\n",
    "    ).sort_values(ascending=False)"
   ]
  },
  {
   "source": [
    "# Clustering des vecteurs TFIDF"
   ],
   "cell_type": "markdown",
   "metadata": {}
  },
  {
   "cell_type": "code",
   "execution_count": 14,
   "metadata": {},
   "outputs": [],
   "source": [
    "km_model = KMeans(n_clusters=N_CLUSTERS)"
   ]
  },
  {
   "cell_type": "code",
   "execution_count": 15,
   "metadata": {},
   "outputs": [
    {
     "output_type": "execute_result",
     "data": {
      "text/plain": [
       "KMeans(n_clusters=5)"
      ]
     },
     "metadata": {},
     "execution_count": 15
    }
   ],
   "source": [
    "km_model.fit(tfidf_vectors)"
   ]
  },
  {
   "cell_type": "code",
   "execution_count": 16,
   "metadata": {},
   "outputs": [],
   "source": [
    "clustering = collections.defaultdict(list)\n",
    "\n",
    "for idx, label in enumerate(km_model.labels_):\n",
    "    clustering[label].append(files[idx])"
   ]
  },
  {
   "cell_type": "code",
   "execution_count": 17,
   "metadata": {},
   "outputs": [
    {
     "output_type": "stream",
     "name": "stdout",
     "text": [
      "{0: ['Bxl_1935_Tome_II_Part_1.txt',\n     'Bxl_1935_Tome_II_Part_10.txt',\n     'Bxl_1935_Tome_II_Part_2.txt',\n     'Bxl_1935_Tome_II_Part_3.txt',\n     'Bxl_1935_Tome_II_Part_4.txt',\n     'Bxl_1935_Tome_II_Part_5.txt',\n     'Bxl_1935_Tome_II_Part_7.txt',\n     'Bxl_1935_Tome_II_Part_9.txt',\n     'Bxl_1935_Tome_I_Part_1.txt',\n     'Bxl_1935_Tome_I_Part_2.txt',\n     'Bxl_1935_Tome_I_Part_3.txt',\n     'Bxl_1935_Tome_I_Part_4.txt',\n     'Bxl_1935_Tome_I_Part_5.txt',\n     'Bxl_1935_Tome_I_Part_6.txt',\n     'Bxl_1935_Tome_I_Part_7.txt',\n     'Bxl_1935_Tome_I_Part_8.txt'],\n 1: ['Bxl_1970_Tome_I1_Part_1.txt',\n     'Bxl_1970_Tome_I1_Part_12.txt',\n     'Bxl_1970_Tome_I1_Part_13.txt',\n     'Bxl_1970_Tome_I1_Part_2.txt',\n     'Bxl_1970_Tome_I1_Part_3.txt',\n     'Bxl_1970_Tome_I1_Part_4.txt',\n     'Bxl_1970_Tome_I1_Part_5.txt',\n     'Bxl_1970_Tome_I1_Part_6.txt',\n     'Bxl_1970_Tome_I1_Part_7.txt',\n     'Bxl_1970_Tome_I1_Part_8.txt',\n     'Bxl_1970_Tome_I1_Part_9.txt',\n     'Bxl_1970_Tome_I2_Part_1.txt',\n     'Bxl_1970_Tome_I2_Part_10.txt',\n     'Bxl_1970_Tome_I2_Part_11.txt',\n     'Bxl_1970_Tome_I2_Part_12.txt',\n     'Bxl_1970_Tome_I2_Part_13.txt',\n     'Bxl_1970_Tome_I2_Part_14.txt',\n     'Bxl_1970_Tome_I2_Part_2.txt',\n     'Bxl_1970_Tome_I2_Part_3.txt',\n     'Bxl_1970_Tome_I2_Part_4.txt',\n     'Bxl_1970_Tome_I2_Part_5.txt',\n     'Bxl_1970_Tome_I2_Part_6.txt',\n     'Bxl_1970_Tome_I2_Part_7.txt',\n     'Bxl_1970_Tome_I2_Part_9.txt',\n     'Bxl_1970_Tome_II1_Part_1.txt',\n     'Bxl_1970_Tome_II1_Part_2.txt',\n     'Bxl_1970_Tome_II1_Part_3.txt',\n     'Bxl_1970_Tome_II1_Part_4.txt',\n     'Bxl_1970_Tome_II1_Part_5.txt',\n     'Bxl_1970_Tome_II1_Part_6.txt',\n     'Bxl_1970_Tome_II1_Part_7.txt',\n     'Bxl_1970_Tome_II1_Part_8.txt',\n     'Bxl_1970_Tome_II2_Part_10.txt',\n     'Bxl_1970_Tome_II2_Part_2.txt',\n     'Bxl_1970_Tome_II2_Part_3.txt',\n     'Bxl_1970_Tome_II2_Part_4.txt',\n     'Bxl_1970_Tome_II2_Part_5.txt',\n     'Bxl_1970_Tome_II2_Part_6.txt',\n     'Bxl_1970_Tome_II2_Part_7.txt',\n     'Bxl_1970_Tome_II2_Part_8.txt',\n     'Bxl_1970_Tome_II2_Part_9.txt'],\n 2: ['Bxl_1848_Tome_I1_Part_1.txt',\n     'Bxl_1848_Tome_I1_Part_2.txt',\n     'Bxl_1907_Tome_I2_Part_1.txt',\n     'Bxl_1907_Tome_I2_Part_10.txt',\n     'Bxl_1907_Tome_I2_Part_15.txt',\n     'Bxl_1907_Tome_I2_Part_16.txt',\n     'Bxl_1907_Tome_I2_Part_2.txt',\n     'Bxl_1907_Tome_I2_Part_3.txt',\n     'Bxl_1907_Tome_I2_Part_4.txt',\n     'Bxl_1907_Tome_I2_Part_5.txt',\n     'Bxl_1907_Tome_I2_Part_6.txt',\n     'Bxl_1907_Tome_I2_Part_7.txt',\n     'Bxl_1907_Tome_I2_Part_8.txt',\n     'Bxl_1907_Tome_I2_Part_9.txt',\n     'Bxl_1907_Tome_II1_Part_1.txt',\n     'Bxl_1921_Tome_I1_Part_1.txt',\n     'Bxl_1921_Tome_I1_Part_2.txt',\n     'Bxl_1921_Tome_I1_Part_3.txt',\n     'Bxl_1921_Tome_I1_Part_4.txt',\n     'Bxl_1921_Tome_I1_Part_5.txt',\n     'Bxl_1921_Tome_I1_Part_6.txt',\n     'Bxl_1921_Tome_I1_Part_8.txt',\n     'Bxl_1921_Tome_I1_Part_9.txt',\n     'Bxl_1923_Tome_I1_Part_1.txt',\n     'Bxl_1923_Tome_I1_Part_10.txt',\n     'Bxl_1923_Tome_I1_Part_2.txt',\n     'Bxl_1923_Tome_I1_Part_4.txt',\n     'Bxl_1923_Tome_I1_Part_5.txt',\n     'Bxl_1923_Tome_I1_Part_6.txt',\n     'Bxl_1923_Tome_I1_Part_8.txt',\n     'Bxl_1923_Tome_I1_Part_9.txt',\n     'Bxl_1923_Tome_I2_Part_1.txt',\n     'Bxl_1923_Tome_I2_Part_2.txt',\n     'Bxl_1923_Tome_I2_Part_3.txt',\n     'Bxl_1923_Tome_I2_Part_4.txt',\n     'Bxl_1923_Tome_I2_Part_6.txt',\n     'Bxl_1923_Tome_I2_Part_7.txt',\n     'Bxl_1923_Tome_I2_Part_8.txt',\n     'Bxl_1925_Tome_II1_1_Part_1.txt',\n     'Bxl_1925_Tome_II1_1_Part_4.txt',\n     'Bxl_1925_Tome_II1_1_Part_5.txt',\n     'Bxl_1925_Tome_II1_1_Part_6.txt',\n     'Bxl_1925_Tome_II1_1_Part_7.txt',\n     'Bxl_1925_Tome_II1_2_Part_1.txt',\n     'Bxl_1925_Tome_II1_2_Part_2.txt',\n     'Bxl_1925_Tome_II1_2_Part_3.txt',\n     'Bxl_1925_Tome_II1_2_Part_4.txt',\n     'Bxl_1925_Tome_II1_2_Part_6.txt',\n     'Bxl_1935_Tome_II_Part_6.txt',\n     'Bxl_1935_Tome_II_Part_8.txt',\n     'Bxl_1961_Tome_II1_Part_2.txt',\n     'Bxl_1961_Tome_I_Part_2.txt',\n     'Bxl_1970_Tome_II1_Part_11.txt',\n     'Bxl_1970_Tome_RptAn_Part_1.txt',\n     'Bxl_1970_Tome_RptAn_Part_2.txt',\n     'Bxl_1970_Tome_RptAn_Part_3.txt'],\n 3: ['Bxl_1977_Tome_I1_Part_1.txt',\n     'Bxl_1977_Tome_I1_Part_2.txt',\n     'Bxl_1977_Tome_I1_Part_3.txt',\n     'Bxl_1977_Tome_I1_Part_4.txt',\n     'Bxl_1977_Tome_I1_Part_5.txt',\n     'Bxl_1977_Tome_I1_Part_6.txt',\n     'Bxl_1977_Tome_I1_Part_7.txt',\n     'Bxl_1977_Tome_I1_Part_8.txt',\n     'Bxl_1977_Tome_I2_Part_1.txt',\n     'Bxl_1977_Tome_I2_Part_2.txt',\n     'Bxl_1977_Tome_I2_Part_3.txt',\n     'Bxl_1977_Tome_I2_Part_4.txt',\n     'Bxl_1977_Tome_I2_Part_5.txt',\n     'Bxl_1977_Tome_I2_Part_6.txt',\n     'Bxl_1977_Tome_I2_Part_7.txt',\n     'Bxl_1977_Tome_I2_Part_8.txt',\n     'Bxl_1977_Tome_I2_Part_9.txt',\n     'Bxl_1977_Tome_II1_Part_1.txt',\n     'Bxl_1977_Tome_II1_Part_2.txt',\n     'Bxl_1977_Tome_II1_Part_3.txt',\n     'Bxl_1977_Tome_II1_Part_4.txt',\n     'Bxl_1977_Tome_II1_Part_5.txt',\n     'Bxl_1977_Tome_II1_Part_6.txt',\n     'Bxl_1977_Tome_II1_Part_7.txt',\n     'Bxl_1977_Tome_II1_Part_8.txt'],\n 4: ['Bxl_1970_Tome_I1_Part_10.txt',\n     'Bxl_1970_Tome_I1_Part_11.txt',\n     'Bxl_1970_Tome_I2_Part_8.txt',\n     'Bxl_1970_Tome_II1_Part_10.txt',\n     'Bxl_1970_Tome_II1_Part_9.txt',\n     'Bxl_1970_Tome_II2_Part_1.txt',\n     'Bxl_1970_Tome_RptAn_Part_4.txt',\n     'Bxl_1970_Tome_RptAn_Part_5.txt',\n     'Bxl_1970_Tome_RptAn_Part_6.txt',\n     'Bxl_1970_Tome_RptAn_Part_7.txt',\n     'Bxl_1977_Tome_RptAn_Part_1.txt',\n     'Bxl_1977_Tome_RptAn_Part_2.txt',\n     'Bxl_1977_Tome_RptAn_Part_3.txt',\n     'Bxl_1977_Tome_RptAn_Part_4.txt']}\n"
     ]
    }
   ],
   "source": [
    "pprint(dict(clustering))"
   ]
  },
  {
   "cell_type": "code",
   "execution_count": null,
   "metadata": {},
   "outputs": [],
   "source": []
  }
 ]
}