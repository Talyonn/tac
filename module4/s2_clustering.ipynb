{
 "metadata": {
  "language_info": {
   "codemirror_mode": {
    "name": "ipython",
    "version": 3
   },
   "file_extension": ".py",
   "mimetype": "text/x-python",
   "name": "python",
   "nbconvert_exporter": "python",
   "pygments_lexer": "ipython3",
   "version": "3.7.7-final"
  },
  "orig_nbformat": 2,
  "kernelspec": {
   "name": "python3",
   "display_name": "Python 3"
  }
 },
 "nbformat": 4,
 "nbformat_minor": 2,
 "cells": [
  {
   "cell_type": "code",
   "execution_count": 1,
   "metadata": {},
   "outputs": [],
   "source": [
    "import collections\n",
    "import os\n",
    "import string\n",
    "import sys\n",
    "\n",
    "import pandas as pd\n",
    "from nltk import word_tokenize\n",
    "from nltk.corpus import stopwords\n",
    "from pprint import pprint\n",
    "from sklearn.cluster import KMeans\n",
    "from sklearn.feature_extraction.text import TfidfVectorizer"
   ]
  },
  {
   "cell_type": "code",
   "execution_count": 2,
   "metadata": {},
   "outputs": [
    {
     "output_type": "stream",
     "name": "stderr",
     "text": [
      "[nltk_data] Downloading package punkt to\n[nltk_data]     C:\\Users\\Nico\\AppData\\Roaming\\nltk_data...\n[nltk_data]   Package punkt is already up-to-date!\n"
     ]
    },
    {
     "output_type": "execute_result",
     "data": {
      "text/plain": [
       "True"
      ]
     },
     "metadata": {},
     "execution_count": 2
    }
   ],
   "source": [
    "import nltk\n",
    "\n",
    "nltk.download('punkt')"
   ]
  },
  {
   "cell_type": "code",
   "execution_count": 3,
   "metadata": {},
   "outputs": [],
   "source": []
  },
  {
   "cell_type": "code",
   "execution_count": 3,
   "metadata": {},
   "outputs": [],
   "source": [
    "data_path = \"../data/txt/\""
   ]
  },
  {
   "source": [
    "# Choix d'une décennie et du nombre de clusters"
   ],
   "cell_type": "markdown",
   "metadata": {}
  },
  {
   "cell_type": "code",
   "execution_count": 4,
   "metadata": {},
   "outputs": [],
   "source": [
    "DECADE = '1880'\n",
    "N_CLUSTERS = 9"
   ]
  },
  {
   "source": [
    "# Chargement des fichiers de la décennie"
   ],
   "cell_type": "markdown",
   "metadata": {}
  },
  {
   "cell_type": "code",
   "execution_count": 5,
   "metadata": {},
   "outputs": [],
   "source": [
    "files = [f for f in sorted(os.listdir(data_path)) if f\"_{DECADE[:-1]}\" in f]"
   ]
  },
  {
   "cell_type": "code",
   "execution_count": 6,
   "metadata": {},
   "outputs": [
    {
     "output_type": "execute_result",
     "data": {
      "text/plain": [
       "['Bxl_1880_Tome_I1_Part_1.txt',\n",
       " 'Bxl_1880_Tome_I1_Part_10.txt',\n",
       " 'Bxl_1880_Tome_I1_Part_2.txt',\n",
       " 'Bxl_1880_Tome_I1_Part_3.txt',\n",
       " 'Bxl_1880_Tome_I1_Part_4.txt']"
      ]
     },
     "metadata": {},
     "execution_count": 6
    }
   ],
   "source": [
    "# Exemple de fichiers\n",
    "files[:5]"
   ]
  },
  {
   "cell_type": "code",
   "execution_count": 8,
   "metadata": {},
   "outputs": [],
   "source": [
    "texts = [open(data_path + f, encoding='utf-8').read() for f in files]"
   ]
  },
  {
   "cell_type": "code",
   "execution_count": 9,
   "metadata": {},
   "outputs": [
    {
     "output_type": "execute_result",
     "data": {
      "text/plain": [
       "'VILLE\\n\\nD E\\n\\nBULLETIN\\n\\nBRUXELLES.\\n\\nCOMMUNAL\\n\\nA N N É E\\n\\n1880.\\n\\nPREMIÈRE PARTIE.\\n\\nCOMPTE\\n\\nRENDU\\n\\nDES\\n\\nSÉANCES.\\n\\nBBUXELLES,\\n\\nIMPRIMERIE DE V JULIEN BAERTSOEN,\\nGrand\\'Place, 5.\\ne\\n\\n\\x0c]\\n\\nI\\n\\n£\\n\\ni\\n\\n!\\n\\n\\x0cN \" 1.\\n\\nCOMPTE RENDU DE LA SÉANCE DÛ 1 2 JANVIER 1 8 8 0 .\\n\\nVILLE\\n\\nDE\\n\\nBRUXELLES.\\n\\nBULLETIN\\n\\nC O M M U N A L\\n\\nANNÉE\\n\\nC O N S E I L\\n\\n1880.\\n\\nC O M M U N A L .\\n\\nSéance du 42 Janvier 1880.\\nPrésidence de M . F . V'"
      ]
     },
     "metadata": {},
     "execution_count": 9
    }
   ],
   "source": [
    "# Exemple de textes\n",
    "texts[0][:400]"
   ]
  },
  {
   "source": [
    "# Vectorisation du texte"
   ],
   "cell_type": "markdown",
   "metadata": {}
  },
  {
   "cell_type": "code",
   "execution_count": 10,
   "metadata": {},
   "outputs": [],
   "source": [
    "def process_text(text, stem=True):\n",
    "    \"\"\" Tokenize text and remove punctuation \"\"\"\n",
    "    text = text.translate(string.punctuation)\n",
    "    tokens = word_tokenize(text)\n",
    "    return tokens"
   ]
  },
  {
   "cell_type": "code",
   "execution_count": 11,
   "metadata": {},
   "outputs": [],
   "source": [
    "vectorizer = TfidfVectorizer(tokenizer=process_text,\n",
    "                                stop_words=stopwords.words('french'),\n",
    "                                max_df=0.5,\n",
    "                                min_df=0.1,\n",
    "                                lowercase=True)"
   ]
  },
  {
   "cell_type": "code",
   "execution_count": 12,
   "metadata": {},
   "outputs": [
    {
     "output_type": "stream",
     "name": "stdout",
     "text": [
      "Wall time: 1min 8s\n"
     ]
    }
   ],
   "source": [
    "%time tfidf_vectors = vectorizer.fit_transform(texts)"
   ]
  },
  {
   "cell_type": "code",
   "execution_count": 13,
   "metadata": {},
   "outputs": [
    {
     "output_type": "execute_result",
     "data": {
      "text/plain": [
       "<270x7997 sparse matrix of type '<class 'numpy.float64'>'\n",
       "\twith 461792 stored elements in Compressed Sparse Row format>"
      ]
     },
     "metadata": {},
     "execution_count": 13
    }
   ],
   "source": [
    "tfidf_vectors"
   ]
  },
  {
   "cell_type": "code",
   "execution_count": 14,
   "metadata": {},
   "outputs": [
    {
     "output_type": "execute_result",
     "data": {
      "text/plain": [
       "delecosse        0.338644\n",
       "délégation       0.206433\n",
       "trappeniers      0.199561\n",
       "veldekens        0.179754\n",
       "monte-charges    0.172714\n",
       "                   ...   \n",
       "lout             0.000000\n",
       "louée            0.000000\n",
       "louées           0.000000\n",
       "loués            0.000000\n",
       "#                0.000000\n",
       "Length: 7997, dtype: float64"
      ]
     },
     "metadata": {},
     "execution_count": 14
    }
   ],
   "source": [
    "# Exemple de vecteur TFIDF\n",
    "pd.Series(\n",
    "    tfidf_vectors[0].toarray()[0],\n",
    "    index=vectorizer.get_feature_names()\n",
    "    ).sort_values(ascending=False)"
   ]
  },
  {
   "source": [
    "# Clustering des vecteurs TFIDF"
   ],
   "cell_type": "markdown",
   "metadata": {}
  },
  {
   "cell_type": "code",
   "execution_count": 15,
   "metadata": {},
   "outputs": [],
   "source": [
    "km_model = KMeans(n_clusters=N_CLUSTERS)"
   ]
  },
  {
   "cell_type": "code",
   "execution_count": 16,
   "metadata": {},
   "outputs": [
    {
     "output_type": "execute_result",
     "data": {
      "text/plain": [
       "KMeans(n_clusters=9)"
      ]
     },
     "metadata": {},
     "execution_count": 16
    }
   ],
   "source": [
    "km_model.fit(tfidf_vectors)"
   ]
  },
  {
   "cell_type": "code",
   "execution_count": 17,
   "metadata": {},
   "outputs": [],
   "source": [
    "clustering = collections.defaultdict(list)\n",
    "\n",
    "for idx, label in enumerate(km_model.labels_):\n",
    "    clustering[label].append(files[idx])"
   ]
  },
  {
   "cell_type": "code",
   "execution_count": 18,
   "metadata": {},
   "outputs": [
    {
     "output_type": "stream",
     "name": "stdout",
     "text": [
      "{0: ['Bxl_1885_Tome_I2_Part_10.txt',\n     'Bxl_1885_Tome_I2_Part_6.txt',\n     'Bxl_1885_Tome_I2_Part_9.txt',\n     'Bxl_1886_Tome_I1_Part_1.txt',\n     'Bxl_1886_Tome_I1_Part_2.txt',\n     'Bxl_1886_Tome_I1_Part_4.txt',\n     'Bxl_1886_Tome_I1_Part_5.txt',\n     'Bxl_1886_Tome_I1_Part_7.txt',\n     'Bxl_1886_Tome_I1_Part_8.txt',\n     'Bxl_1886_Tome_I1_Part_9.txt',\n     'Bxl_1886_Tome_I2_Part_1.txt',\n     'Bxl_1886_Tome_I2_Part_10.txt',\n     'Bxl_1886_Tome_I2_Part_12.txt',\n     'Bxl_1886_Tome_I2_Part_13.txt',\n     'Bxl_1886_Tome_I2_Part_3.txt',\n     'Bxl_1886_Tome_I2_Part_5.txt',\n     'Bxl_1886_Tome_I2_Part_6.txt',\n     'Bxl_1886_Tome_I2_Part_7.txt',\n     'Bxl_1886_Tome_I2_Part_8.txt',\n     'Bxl_1886_Tome_I2_Part_9.txt',\n     'Bxl_1887_Tome_I2_Part_5.txt',\n     'Lkn_1883_Tome_RptAn_Part_6.txt',\n     'Lkn_1885_Tome_I_Part_8.txt'],\n 1: ['Lkn_1880_Tome_I_Part_1.txt',\n     'Lkn_1880_Tome_I_Part_2.txt',\n     'Lkn_1880_Tome_I_Part_3.txt',\n     'Lkn_1880_Tome_I_Part_4.txt',\n     'Lkn_1880_Tome_RptAn_Part_1.txt',\n     'Lkn_1880_Tome_RptAn_Part_2.txt',\n     'Lkn_1880_Tome_RptAn_Part_3.txt',\n     'Lkn_1880_Tome_RptAn_Part_4.txt',\n     'Lkn_1880_Tome_RptAn_Part_5.txt',\n     'Lkn_1880_Tome_RptAn_Part_6.txt',\n     'Lkn_1880_Tome_RptAn_Part_7.txt',\n     'Lkn_1880_Tome_RptAn_Part_8.txt',\n     'Lkn_1881_Tome_I_Part_1.txt',\n     'Lkn_1881_Tome_I_Part_2.txt',\n     'Lkn_1881_Tome_I_Part_3.txt',\n     'Lkn_1881_Tome_I_Part_4.txt',\n     'Lkn_1882_Tome_I_Part_2.txt',\n     'Lkn_1882_Tome_I_Part_4.txt',\n     'Lkn_1882_Tome_I_Part_5.txt',\n     'Lkn_1882_Tome_RptAn_Part_1.txt',\n     'Lkn_1882_Tome_RptAn_Part_2.txt',\n     'Lkn_1882_Tome_RptAn_Part_3.txt',\n     'Lkn_1882_Tome_RptAn_Part_4.txt',\n     'Lkn_1882_Tome_RptAn_Part_5.txt',\n     'Lkn_1882_Tome_RptAn_Part_6.txt',\n     'Lkn_1882_Tome_RptAn_Part_7.txt',\n     'Lkn_1882_Tome_RptAn_Part_8.txt',\n     'Lkn_1883_Tome_RptAn_Part_1.txt',\n     'Lkn_1883_Tome_RptAn_Part_2.txt',\n     'Lkn_1883_Tome_RptAn_Part_3.txt',\n     'Lkn_1883_Tome_RptAn_Part_4.txt',\n     'Lkn_1883_Tome_RptAn_Part_5.txt',\n     'Lkn_1884_Tome_I_Part_1.txt',\n     'Lkn_1884_Tome_I_Part_2.txt',\n     'Lkn_1884_Tome_I_Part_3.txt',\n     'Lkn_1884_Tome_I_Part_4.txt',\n     'Lkn_1884_Tome_I_Part_5.txt',\n     'Lkn_1884_Tome_I_Part_7.txt',\n     'Lkn_1885_Tome_RptAn_Part_1.txt',\n     'Lkn_1885_Tome_RptAn_Part_2.txt',\n     'Lkn_1885_Tome_RptAn_Part_3.txt',\n     'Lkn_1885_Tome_RptAn_Part_4.txt',\n     'Lkn_1885_Tome_RptAn_Part_5.txt',\n     'Lkn_1887_Tome_I_Part_4.txt'],\n 2: ['Bxl_1883_Tome_I2_Part_6.txt',\n     'Bxl_1887_Tome_I1_Part_2.txt',\n     'Bxl_1887_Tome_I1_Part_3.txt',\n     'Bxl_1887_Tome_I1_Part_4.txt',\n     'Bxl_1887_Tome_I1_Part_5.txt',\n     'Bxl_1887_Tome_I1_Part_6.txt',\n     'Bxl_1887_Tome_I1_Part_7.txt',\n     'Bxl_1887_Tome_I1_Part_8.txt',\n     'Bxl_1887_Tome_I2_Part_1.txt',\n     'Bxl_1887_Tome_I2_Part_11.txt',\n     'Bxl_1887_Tome_I2_Part_12.txt',\n     'Bxl_1887_Tome_I2_Part_3.txt',\n     'Bxl_1887_Tome_I2_Part_6.txt',\n     'Bxl_1887_Tome_I2_Part_7.txt',\n     'Bxl_1887_Tome_I2_Part_8.txt',\n     'Bxl_1887_Tome_I2_Part_9.txt',\n     'Bxl_1888_Tome_I1_Part_2.txt',\n     'Bxl_1888_Tome_I1_Part_3.txt',\n     'Bxl_1888_Tome_I2_Part_10.txt',\n     'Bxl_1888_Tome_I2_Part_11.txt',\n     'Bxl_1888_Tome_I2_Part_4.txt',\n     'Bxl_1888_Tome_I2_Part_5.txt',\n     'Bxl_1888_Tome_I2_Part_6.txt',\n     'Bxl_1888_Tome_I2_Part_7.txt',\n     'Bxl_1888_Tome_I2_Part_8.txt',\n     'Bxl_1888_Tome_I2_Part_9.txt',\n     'Lkn_1886_Tome_I_Part_7.txt'],\n 3: ['Bxl_1888_Tome_I1_Part_1.txt',\n     'Bxl_1888_Tome_I1_Part_4.txt',\n     'Bxl_1888_Tome_I1_Part_5.txt',\n     'Bxl_1888_Tome_I2_Part_1.txt',\n     'Bxl_1888_Tome_I2_Part_12.txt',\n     'Bxl_1888_Tome_I2_Part_13.txt',\n     'Bxl_1888_Tome_I2_Part_14.txt',\n     'Bxl_1888_Tome_I2_Part_2.txt',\n     'Bxl_1888_Tome_I2_Part_3.txt',\n     'Bxl_1889_Tome_I1_Part_2.txt',\n     'Bxl_1889_Tome_I1_Part_3.txt',\n     'Bxl_1889_Tome_I1_Part_4.txt',\n     'Bxl_1889_Tome_I1_Part_5.txt',\n     'Bxl_1889_Tome_I1_Part_6.txt',\n     'Bxl_1889_Tome_I1_Part_7.txt',\n     'Bxl_1889_Tome_I2_Part_1.txt',\n     'Bxl_1889_Tome_I2_Part_10.txt',\n     'Bxl_1889_Tome_I2_Part_11.txt',\n     'Bxl_1889_Tome_I2_Part_12.txt',\n     'Bxl_1889_Tome_I2_Part_13.txt',\n     'Bxl_1889_Tome_I2_Part_2.txt',\n     'Bxl_1889_Tome_I2_Part_3.txt',\n     'Bxl_1889_Tome_I2_Part_4.txt',\n     'Bxl_1889_Tome_I2_Part_5.txt',\n     'Bxl_1889_Tome_I2_Part_6.txt',\n     'Bxl_1889_Tome_I2_Part_7.txt',\n     'Bxl_1889_Tome_I2_Part_8.txt',\n     'Bxl_1889_Tome_I2_Part_9.txt',\n     'Lkn_1888_Tome_I_Part_6.txt'],\n 4: ['Bxl_1880_Tome_I1_Part_1.txt',\n     'Bxl_1880_Tome_I1_Part_2.txt',\n     'Bxl_1880_Tome_I1_Part_3.txt',\n     'Bxl_1880_Tome_I1_Part_4.txt',\n     'Bxl_1880_Tome_I1_Part_5.txt',\n     'Bxl_1880_Tome_I1_Part_6.txt',\n     'Bxl_1880_Tome_I1_Part_7.txt',\n     'Bxl_1880_Tome_I1_Part_8.txt',\n     'Bxl_1880_Tome_I1_Part_9.txt',\n     'Bxl_1881_Tome_I1_Part_1.txt',\n     'Bxl_1881_Tome_I1_Part_10.txt',\n     'Bxl_1881_Tome_I1_Part_2.txt',\n     'Bxl_1881_Tome_I1_Part_3.txt',\n     'Bxl_1881_Tome_I1_Part_4.txt',\n     'Bxl_1881_Tome_I1_Part_5.txt',\n     'Bxl_1881_Tome_I1_Part_6.txt',\n     'Bxl_1881_Tome_I1_Part_7.txt',\n     'Bxl_1881_Tome_I1_Part_8.txt',\n     'Bxl_1881_Tome_I1_Part_9.txt',\n     'Bxl_1881_Tome_I2_Part_1.txt',\n     'Bxl_1881_Tome_I2_Part_11.txt',\n     'Bxl_1881_Tome_I2_Part_2.txt',\n     'Bxl_1881_Tome_I2_Part_3.txt',\n     'Bxl_1881_Tome_I2_Part_4.txt',\n     'Bxl_1881_Tome_I2_Part_7.txt',\n     'Bxl_1881_Tome_I2_Part_8.txt',\n     'Bxl_1881_Tome_I2_Part_9.txt'],\n 5: ['Bxl_1881_Tome_I2_Part_10.txt',\n     'Bxl_1881_Tome_I2_Part_5.txt',\n     'Bxl_1881_Tome_I2_Part_6.txt',\n     'Bxl_1882_Tome_I2_Part_12.txt',\n     'Bxl_1882_Tome_I2_Part_5.txt',\n     'Bxl_1882_Tome_I2_Part_6.txt',\n     'Bxl_1883_Tome_I2_Part_2.txt',\n     'Bxl_1883_Tome_I2_Part_4.txt',\n     'Bxl_1883_Tome_I2_Part_5.txt',\n     'Bxl_1883_Tome_I2_Part_7.txt',\n     'Bxl_1883_Tome_I2_Part_8.txt',\n     'Bxl_1883_Tome_I2_Part_9.txt',\n     'Bxl_1884_Tome_I2_Part_1.txt',\n     'Bxl_1884_Tome_I2_Part_2.txt',\n     'Bxl_1884_Tome_I2_Part_3.txt',\n     'Bxl_1884_Tome_I2_Part_4.txt',\n     'Bxl_1884_Tome_I2_Part_5.txt',\n     'Bxl_1884_Tome_I2_Part_7.txt',\n     'Bxl_1884_Tome_I2_Part_8.txt',\n     'Bxl_1885_Tome_I2_Part_12.txt',\n     'Bxl_1885_Tome_I2_Part_13.txt',\n     'Bxl_1885_Tome_I2_Part_3.txt',\n     'Bxl_1885_Tome_I2_Part_5.txt',\n     'Bxl_1886_Tome_I1_Part_6.txt',\n     'Bxl_1886_Tome_I2_Part_11.txt',\n     'Bxl_1886_Tome_I2_Part_2.txt',\n     'Bxl_1886_Tome_I2_Part_4.txt',\n     'Bxl_1887_Tome_I2_Part_10.txt',\n     'Bxl_1887_Tome_I2_Part_4.txt'],\n 6: ['Lkn_1882_Tome_I_Part_1.txt',\n     'Lkn_1882_Tome_I_Part_3.txt',\n     'Lkn_1884_Tome_I_Part_6.txt',\n     'Lkn_1885_Tome_I_Part_1.txt',\n     'Lkn_1885_Tome_I_Part_2.txt',\n     'Lkn_1885_Tome_I_Part_3.txt',\n     'Lkn_1885_Tome_I_Part_4.txt',\n     'Lkn_1885_Tome_I_Part_5.txt',\n     'Lkn_1885_Tome_I_Part_6.txt',\n     'Lkn_1885_Tome_I_Part_7.txt',\n     'Lkn_1886_Tome_I_Part_1.txt',\n     'Lkn_1886_Tome_I_Part_2.txt',\n     'Lkn_1886_Tome_I_Part_3.txt',\n     'Lkn_1886_Tome_I_Part_4.txt',\n     'Lkn_1886_Tome_I_Part_5.txt',\n     'Lkn_1886_Tome_I_Part_6.txt',\n     'Lkn_1887_Tome_I_Part_1.txt',\n     'Lkn_1887_Tome_I_Part_2.txt',\n     'Lkn_1887_Tome_I_Part_3.txt',\n     'Lkn_1887_Tome_I_Part_5.txt',\n     'Lkn_1888_Tome_I_Part_1.txt',\n     'Lkn_1888_Tome_I_Part_10.txt',\n     'Lkn_1888_Tome_I_Part_11.txt',\n     'Lkn_1888_Tome_I_Part_12.txt',\n     'Lkn_1888_Tome_I_Part_2.txt',\n     'Lkn_1888_Tome_I_Part_3.txt',\n     'Lkn_1888_Tome_I_Part_4.txt',\n     'Lkn_1888_Tome_I_Part_5.txt',\n     'Lkn_1888_Tome_I_Part_7.txt',\n     'Lkn_1888_Tome_I_Part_8.txt',\n     'Lkn_1888_Tome_I_Part_9.txt'],\n 7: ['Bxl_1880_Tome_I1_Part_10.txt',\n     'Bxl_1881_Tome_I2_Part_12.txt',\n     'Bxl_1882_Tome_I1_Part_7.txt',\n     'Bxl_1882_Tome_I2_Part_13.txt',\n     'Bxl_1883_Tome_I1_Part_7.txt',\n     'Bxl_1883_Tome_I2_Part_11.txt',\n     'Bxl_1883_Tome_I2_Part_12.txt',\n     'Bxl_1884_Tome_I1_Part_7.txt',\n     'Bxl_1884_Tome_I2_Part_10.txt',\n     'Bxl_1884_Tome_I2_Part_9.txt',\n     'Bxl_1885_Tome_I1_Part_6.txt',\n     'Bxl_1885_Tome_I2_Part_14.txt',\n     'Bxl_1889_Tome_I1_Part_8.txt',\n     'Lkn_1884_Tome_I_Part_8.txt'],\n 8: ['Bxl_1882_Tome_I1_Part_1.txt',\n     'Bxl_1882_Tome_I1_Part_2.txt',\n     'Bxl_1882_Tome_I1_Part_3.txt',\n     'Bxl_1882_Tome_I1_Part_4.txt',\n     'Bxl_1882_Tome_I1_Part_5.txt',\n     'Bxl_1882_Tome_I1_Part_6.txt',\n     'Bxl_1882_Tome_I2_Part_1.txt',\n     'Bxl_1882_Tome_I2_Part_10.txt',\n     'Bxl_1882_Tome_I2_Part_11.txt',\n     'Bxl_1882_Tome_I2_Part_2.txt',\n     'Bxl_1882_Tome_I2_Part_3.txt',\n     'Bxl_1882_Tome_I2_Part_4.txt',\n     'Bxl_1882_Tome_I2_Part_7.txt',\n     'Bxl_1882_Tome_I2_Part_8.txt',\n     'Bxl_1882_Tome_I2_Part_9.txt',\n     'Bxl_1883_Tome_I1_Part_1.txt',\n     'Bxl_1883_Tome_I1_Part_2.txt',\n     'Bxl_1883_Tome_I1_Part_3.txt',\n     'Bxl_1883_Tome_I1_Part_4.txt',\n     'Bxl_1883_Tome_I1_Part_5.txt',\n     'Bxl_1883_Tome_I1_Part_6.txt',\n     'Bxl_1883_Tome_I2_Part_1.txt',\n     'Bxl_1883_Tome_I2_Part_10.txt',\n     'Bxl_1883_Tome_I2_Part_3.txt',\n     'Bxl_1884_Tome_I1_Part_1.txt',\n     'Bxl_1884_Tome_I1_Part_2.txt',\n     'Bxl_1884_Tome_I1_Part_3.txt',\n     'Bxl_1884_Tome_I1_Part_4.txt',\n     'Bxl_1884_Tome_I1_Part_5.txt',\n     'Bxl_1884_Tome_I1_Part_6.txt',\n     'Bxl_1884_Tome_I2_Part_6.txt',\n     'Bxl_1885_Tome_I1_Part_1.txt',\n     'Bxl_1885_Tome_I1_Part_2.txt',\n     'Bxl_1885_Tome_I1_Part_3.txt',\n     'Bxl_1885_Tome_I1_Part_4.txt',\n     'Bxl_1885_Tome_I1_Part_5.txt',\n     'Bxl_1885_Tome_I2_Part_1.txt',\n     'Bxl_1885_Tome_I2_Part_11.txt',\n     'Bxl_1885_Tome_I2_Part_2.txt',\n     'Bxl_1885_Tome_I2_Part_4.txt',\n     'Bxl_1885_Tome_I2_Part_7.txt',\n     'Bxl_1885_Tome_I2_Part_8.txt',\n     'Bxl_1886_Tome_I1_Part_3.txt',\n     'Bxl_1887_Tome_I1_Part_1.txt',\n     'Bxl_1887_Tome_I2_Part_2.txt',\n     'Bxl_1889_Tome_I1_Part_1.txt']}\n"
     ]
    }
   ],
   "source": [
    "pprint(dict(clustering))"
   ]
  },
  {
   "cell_type": "code",
   "execution_count": null,
   "metadata": {},
   "outputs": [],
   "source": []
  }
 ]
}