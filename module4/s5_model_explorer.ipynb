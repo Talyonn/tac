{
 "metadata": {
  "language_info": {
   "codemirror_mode": {
    "name": "ipython",
    "version": 3
   },
   "file_extension": ".py",
   "mimetype": "text/x-python",
   "name": "python",
   "nbconvert_exporter": "python",
   "pygments_lexer": "ipython3",
   "version": "3.7.7-final"
  },
  "orig_nbformat": 2,
  "kernelspec": {
   "name": "python3",
   "display_name": "Python 3",
   "language": "python"
  }
 },
 "nbformat": 4,
 "nbformat_minor": 2,
 "cells": [
  {
   "cell_type": "code",
   "execution_count": 1,
   "metadata": {},
   "outputs": [],
   "source": [
    "from gensim.models import Word2Vec\n",
    "from pprint import pprint"
   ]
  },
  {
   "source": [
    "# Charger le modèle que nous venons de créer"
   ],
   "cell_type": "markdown",
   "metadata": {}
  },
  {
   "cell_type": "code",
   "execution_count": 2,
   "metadata": {},
   "outputs": [],
   "source": [
    "model = Word2Vec.load(\"../data/bulletins.model\")"
   ]
  },
  {
   "cell_type": "code",
   "execution_count": 9,
   "metadata": {},
   "outputs": [
    {
     "output_type": "execute_result",
     "data": {
      "text/plain": [
       "array([-0.48846284,  0.0273002 ,  0.3430367 ,  0.10181931,  0.25310758,\n",
       "       -1.2780923 , -0.09546712,  0.9718706 , -0.04319339,  0.23146032,\n",
       "        0.6501699 , -0.19357988, -0.5282685 , -0.20258509, -0.01301107,\n",
       "       -1.1216955 ,  0.03685196,  0.03986689,  0.33644527, -0.1636162 ,\n",
       "        0.53560036, -0.22487138, -0.73804396, -0.3440925 ,  0.14260003,\n",
       "       -1.2602061 , -0.3548159 , -0.34161755, -0.43908992,  0.34655923,\n",
       "       -0.33216074, -0.8165462 ], dtype=float32)"
      ]
     },
     "metadata": {},
     "execution_count": 9
    }
   ],
   "source": [
    "model[\"clinique\"]"
   ]
  },
  {
   "cell_type": "code",
   "execution_count": 10,
   "metadata": {},
   "outputs": [
    {
     "output_type": "execute_result",
     "data": {
      "text/plain": [
       "array([ 0.4893023 ,  0.03160219, -0.02298877,  0.58257204, -0.7501113 ,\n",
       "       -0.93675405, -0.2868984 ,  0.93956876,  0.43575984,  0.21319477,\n",
       "        0.33775604, -0.2718145 ,  0.583608  , -0.52330446,  0.909869  ,\n",
       "       -1.5953085 , -0.03236411,  0.2655013 ,  0.9268613 , -0.2572501 ,\n",
       "       -0.07403057,  0.40311247, -0.25121877,  0.08570451, -0.51097167,\n",
       "       -0.5084993 , -0.06456443,  0.1131192 , -0.4103016 , -0.43686083,\n",
       "       -0.07017518, -1.2009178 ], dtype=float32)"
      ]
     },
     "metadata": {},
     "execution_count": 10
    }
   ],
   "source": [
    "model['hospice']"
   ]
  },
  {
   "source": [
    "# Quel est leur similarité ?"
   ],
   "cell_type": "markdown",
   "metadata": {}
  },
  {
   "cell_type": "code",
   "execution_count": 11,
   "metadata": {},
   "outputs": [
    {
     "output_type": "execute_result",
     "data": {
      "text/plain": [
       "0.5587083"
      ]
     },
     "metadata": {},
     "execution_count": 11
    }
   ],
   "source": [
    "model.wv.similarity(\"clinique\", \"hospice\")"
   ]
  },
  {
   "cell_type": "code",
   "execution_count": 12,
   "metadata": {},
   "outputs": [
    {
     "output_type": "execute_result",
     "data": {
      "text/plain": [
       "[('infirmerie', 0.8667770028114319),\n",
       " ('ancienne_commune', 0.8369888663291931),\n",
       " ('retraite', 0.7909038066864014),\n",
       " ('abbaye', 0.7792870998382568),\n",
       " ('ecuyer', 0.7747239470481873),\n",
       " ('ommegang', 0.7688562870025635),\n",
       " ('harmonie', 0.7683466672897339),\n",
       " ('industrie', 0.7652997970581055),\n",
       " ('ancienne', 0.7652373313903809),\n",
       " ('assiette', 0.7622148990631104)]"
      ]
     },
     "metadata": {},
     "execution_count": 12
    }
   ],
   "source": [
    "model.wv.most_similar(\"hospice\", topn=10)"
   ]
  },
  {
   "cell_type": "code",
   "execution_count": 13,
   "metadata": {},
   "outputs": [
    {
     "output_type": "execute_result",
     "data": {
      "text/plain": [
       "[('installations', 0.8477573394775391),\n",
       " ('frais', 0.845244288444519),\n",
       " ('conditions', 0.8449587225914001),\n",
       " ('objets', 0.8327274918556213),\n",
       " ('tarifs', 0.8002104759216309),\n",
       " ('ouvrages', 0.7939962148666382),\n",
       " ('modifications', 0.7903286218643188),\n",
       " ('locaux', 0.7871307134628296),\n",
       " ('constructions', 0.7782766819000244),\n",
       " ('motifs', 0.7753676176071167)]"
      ]
     },
     "metadata": {},
     "execution_count": 13
    }
   ],
   "source": [
    "model.wv.most_similar(\"travaux\")"
   ]
  },
  {
   "cell_type": "code",
   "execution_count": null,
   "metadata": {},
   "outputs": [],
   "source": [
    "model.wv.most_similar(positive=['bruxelles', 'france'], negative=['belgique'], topn=1)"
   ]
  },
  {
   "cell_type": "code",
   "execution_count": null,
   "metadata": {},
   "outputs": [],
   "source": [
    "model.wv.most_similar(positive=['bruxelles', 'liege', 'france'], negative=['belgique'], topn=1)"
   ]
  },
  {
   "cell_type": "code",
   "execution_count": null,
   "metadata": {},
   "outputs": [],
   "source": []
  }
 ]
}