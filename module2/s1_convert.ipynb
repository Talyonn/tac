{
 "metadata": {
  "language_info": {
   "codemirror_mode": {
    "name": "ipython",
    "version": 3
   },
   "file_extension": ".py",
   "mimetype": "text/x-python",
   "name": "python",
   "nbconvert_exporter": "python",
   "pygments_lexer": "ipython3",
   "version": "3.7.7-final"
  },
  "orig_nbformat": 2,
  "kernelspec": {
   "name": "python3",
   "display_name": "Python 3",
   "language": "python"
  }
 },
 "nbformat": 4,
 "nbformat_minor": 2,
 "cells": [
  {
   "source": [
    "# Converting PDFs to text files and moving them to a new directory"
   ],
   "cell_type": "markdown",
   "metadata": {}
  },
  {
   "source": [
    "## Lister les fichiers dans `data/pdf`"
   ],
   "cell_type": "markdown",
   "metadata": {}
  },
  {
   "cell_type": "code",
   "execution_count": 1,
   "metadata": {},
   "outputs": [],
   "source": [
    "from os import listdir\n",
    "from os.path import isfile, join\n",
    "\n",
    "pdf_path = '../data/pdf'"
   ]
  },
  {
   "cell_type": "code",
   "execution_count": 2,
   "metadata": {},
   "outputs": [],
   "source": [
    "pdfs = [f for f in listdir(pdf_path) if isfile(join(pdf_path, f))]"
   ]
  },
  {
   "source": [
    "## Installer PdfToText (MacOS)\n",
    "\n",
    "Sur le terminal, lancer :\n",
    "\n",
    "```\n",
    "ruby -e \"$(curl -fsSL https://raw.githubusercontent.com/Homebrew/install/master/install)\" < /dev/null 2> /dev/null ; brew install caskroom/cask/brew-cask 2> /dev/null\n",
    "```\n",
    "\n",
    "Et puis :\n",
    "```\n",
    "brew cask install pdftotext\n",
    "```"
   ],
   "cell_type": "markdown",
   "metadata": {}
  },
  {
   "source": [
    "## Convertir les PDFs en TXT"
   ],
   "cell_type": "markdown",
   "metadata": {}
  },
  {
   "cell_type": "code",
   "execution_count": 8,
   "metadata": {},
   "outputs": [],
   "source": [
    "import subprocess"
   ]
  },
  {
   "cell_type": "code",
   "execution_count": 9,
   "metadata": {},
   "outputs": [],
   "source": [
    "from pathlib import Path\n",
    "\n",
    "txt_path = '../data/txt'\n",
    "\n",
    "Path(txt_path).mkdir(parents=True, exist_ok=True)"
   ]
  },
  {
   "cell_type": "code",
   "execution_count": 10,
   "metadata": {},
   "outputs": [],
   "source": [
    "txts = [f for f in listdir(txt_path) if isfile(join(txt_path, f))]"
   ]
  },
  {
   "cell_type": "code",
   "execution_count": 12,
   "metadata": {},
   "outputs": [
    {
     "output_type": "execute_result",
     "data": {
      "text/plain": [
       "['Bxl_1857_Tome_II1_Part_2.txt',\n",
       " 'Bxl_1864_Tome_I1_Part_2.txt',\n",
       " 'Bxl_1850_Tome_II1_Part_7.txt',\n",
       " 'Bxl_1847_Tome_I1_Part_5.txt',\n",
       " 'Bxl_1851_Tome_II1_Part_6.txt',\n",
       " 'Bxl_1856_Tome_II1_Part_3.txt',\n",
       " 'Bxl_1849_Tome_I1_Part_1.txt',\n",
       " 'Bxl_1857_Tome_I1_Part_4.txt',\n",
       " 'Bxl_1849_Tome_II1_Part_7.txt',\n",
       " 'Bxl_1852_Tome_II1_Part_4.txt']"
      ]
     },
     "metadata": {},
     "execution_count": 12
    }
   ],
   "source": [
    "txts[:10]"
   ]
  },
  {
   "cell_type": "code",
   "execution_count": 13,
   "metadata": {},
   "outputs": [],
   "source": [
    "not_converted_pdfs = [p for p in pdfs if f'{p[:-3]}txt' not in txts]"
   ]
  },
  {
   "cell_type": "code",
   "execution_count": 14,
   "metadata": {},
   "outputs": [
    {
     "output_type": "execute_result",
     "data": {
      "text/plain": [
       "131"
      ]
     },
     "metadata": {},
     "execution_count": 14
    }
   ],
   "source": [
    "len(pdfs)"
   ]
  },
  {
   "cell_type": "code",
   "execution_count": 17,
   "metadata": {
    "tags": []
   },
   "outputs": [
    {
     "output_type": "stream",
     "name": "stdout",
     "text": [
      ".DS_Store converted!\n"
     ]
    }
   ],
   "source": [
    "for pdf in not_converted_pdfs:\n",
    "    command = [\n",
    "        'pdftotext',\n",
    "        f'{pdf_path}/{pdf}',\n",
    "        f'{txt_path}/{pdf[:-3]}txt'\n",
    "    ]\n",
    "    subprocess.run(command, capture_output=True)\n",
    "    print(f\"{pdf} converted!\")"
   ]
  },
  {
   "source": [
    "Subprocess permet de lancer des commandes bash telles que celle ci-dessous pour l'ensemble des PDFs téléchargés.\n",
    "\n",
    "`pdftotext data/pdf/Bxl_1847_Tome_I1_Part_2.pdf data/txt/Bxl_1847_Tome_I1_Part_2.txt`\n",
    "\n",
    "Une commande pdftotext se structure comme ceci : `pdftotext fichier_source fichier_cible`"
   ],
   "cell_type": "markdown",
   "metadata": {}
  },
  {
   "source": [
    "## Consolider tous les fichiers en un (Bash)\n",
    "\n",
    "- `cat` permet d'imprimer le contenu de fichiers textes\n",
    "- Un pattern (ici `.../*.txt`) permet d'appliquer la commande sur tous les fichiers qui matchent\n",
    "- `>` permet de rediriger le résultat de la commande précédente dans un fichier\n",
    "\n",
    "Pour en savoir plus sur les flux de redirections :\n",
    "https://openclassrooms.com/fr/courses/43538-reprenez-le-controle-a-laide-de-linux/40444-les-flux-de-redirection"
   ],
   "cell_type": "markdown",
   "metadata": {}
  },
  {
   "cell_type": "code",
   "execution_count": null,
   "metadata": {},
   "outputs": [],
   "source": []
  },
  {
   "cell_type": "code",
   "execution_count": 9,
   "metadata": {
    "tags": []
   },
   "outputs": [
    {
     "output_type": "stream",
     "name": "stderr",
     "text": [
      "'cat' is not recognized as an internal or external command,\noperable program or batch file.\n"
     ]
    }
   ],
   "source": [
    "!cat ../data/txt/Bxl_192*.txt > ../data/all.txt"
   ]
  },
  {
   "cell_type": "code",
   "execution_count": 2,
   "metadata": {},
   "outputs": [
    {
     "output_type": "error",
     "ename": "SyntaxError",
     "evalue": "invalid syntax (<ipython-input-2-b78af6d1c44f>, line 3)",
     "traceback": [
      "\u001b[1;36m  File \u001b[1;32m\"<ipython-input-2-b78af6d1c44f>\"\u001b[1;36m, line \u001b[1;32m3\u001b[0m\n\u001b[1;33m    cd D:/tac/data/hopitaux/1848\u001b[0m\n\u001b[1;37m       ^\u001b[0m\n\u001b[1;31mSyntaxError\u001b[0m\u001b[1;31m:\u001b[0m invalid syntax\n"
     ]
    }
   ],
   "source": [
    "#I had to do this in powershell for some reasons\n",
    "\n",
    "cat d:\\tac\\data\\hopitaux\\1848\\Bxl_184*.txt > 1848.txt   #that part didn't really work, but I still managed to get the results I wanted\n",
    "#Also did it for every year"
   ]
  },
  {
   "cell_type": "code",
   "execution_count": 10,
   "metadata": {},
   "outputs": [
    {
     "output_type": "error",
     "ename": "SyntaxError",
     "evalue": "invalid syntax (<ipython-input-10-8f0185df0f35>, line 1)",
     "traceback": [
      "\u001b[1;36m  File \u001b[1;32m\"<ipython-input-10-8f0185df0f35>\"\u001b[1;36m, line \u001b[1;32m1\u001b[0m\n\u001b[1;33m    Get-Content -Path \"C:\\Users\\Nico\\Tac\\Data\\all.txt\" | Out-File -FilePath \"C:\\Users\\Nico\\Documents\\DestFile.txt\" -Encoding utf-8\u001b[0m\n\u001b[1;37m                                                     ^\u001b[0m\n\u001b[1;31mSyntaxError\u001b[0m\u001b[1;31m:\u001b[0m invalid syntax\n"
     ]
    }
   ],
   "source": [
    "# Had to do it to get a file with encoding as utf-8 and not utf-16. In powershell do : \n",
    "annee = 1907\n",
    "Get-Content -Path \"D:\\tac\\data\\hopitaux\\allF.txt\" | Out-File -FilePath \"D:\\tac\\data\\hopitaux\\allF8.txt\" -Encoding utf8"
   ]
  },
  {
   "source": [
    "## Compter le nombre de mots"
   ],
   "cell_type": "markdown",
   "metadata": {}
  },
  {
   "cell_type": "code",
   "execution_count": 2,
   "metadata": {
    "tags": []
   },
   "outputs": [
    {
     "output_type": "stream",
     "name": "stderr",
     "text": [
      "'wc' is not recognized as an internal or external command,\noperable program or batch file.\n"
     ]
    }
   ],
   "source": [
    "!wc ../data/1960-1970.txt"
   ]
  },
  {
   "source": [
    "On obtient ici, dans l'ordre, le nombre de lignes, de mots, d'octets.\n",
    "\n",
    "Pour en savoir plus sur la commande wc: https://fr.wikipedia.org/wiki/Wc_(Unix)"
   ],
   "cell_type": "markdown",
   "metadata": {}
  }
 ]
}